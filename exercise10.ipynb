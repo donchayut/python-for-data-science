{
 "cells": [
  {
   "cell_type": "code",
   "execution_count": 243,
   "metadata": {},
   "outputs": [],
   "source": [
    "#Import Python Libraries\n",
    "import numpy as np\n",
    "import scipy as sp\n",
    "import pandas as pd\n",
    "import matplotlib.pyplot as plt\n",
    "import seaborn as sns"
   ]
  },
  {
   "cell_type": "code",
   "execution_count": 244,
   "metadata": {},
   "outputs": [],
   "source": [
    "#Read csv file\n",
    "flights = pd.read_csv(\"flights.csv\")"
   ]
  },
  {
   "cell_type": "code",
   "execution_count": 245,
   "metadata": {},
   "outputs": [],
   "source": [
    "flights = flights.dropna()"
   ]
  },
  {
   "cell_type": "code",
   "execution_count": 246,
   "metadata": {},
   "outputs": [],
   "source": [
    "flightpi = flights.groupby(['carrier'])"
   ]
  },
  {
   "cell_type": "code",
   "execution_count": 247,
   "metadata": {},
   "outputs": [
    {
     "data": {
      "text/html": [
       "<div>\n",
       "<style scoped>\n",
       "    .dataframe tbody tr th:only-of-type {\n",
       "        vertical-align: middle;\n",
       "    }\n",
       "\n",
       "    .dataframe tbody tr th {\n",
       "        vertical-align: top;\n",
       "    }\n",
       "\n",
       "    .dataframe thead th {\n",
       "        text-align: right;\n",
       "    }\n",
       "</style>\n",
       "<table border=\"1\" class=\"dataframe\">\n",
       "  <thead>\n",
       "    <tr style=\"text-align: right;\">\n",
       "      <th></th>\n",
       "      <th>year</th>\n",
       "      <th>month</th>\n",
       "      <th>day</th>\n",
       "      <th>dep_time</th>\n",
       "      <th>dep_delay</th>\n",
       "      <th>arr_time</th>\n",
       "      <th>arr_delay</th>\n",
       "      <th>flight</th>\n",
       "      <th>air_time</th>\n",
       "      <th>distance</th>\n",
       "      <th>hour</th>\n",
       "      <th>minute</th>\n",
       "    </tr>\n",
       "    <tr>\n",
       "      <th>carrier</th>\n",
       "      <th></th>\n",
       "      <th></th>\n",
       "      <th></th>\n",
       "      <th></th>\n",
       "      <th></th>\n",
       "      <th></th>\n",
       "      <th></th>\n",
       "      <th></th>\n",
       "      <th></th>\n",
       "      <th></th>\n",
       "      <th></th>\n",
       "      <th></th>\n",
       "    </tr>\n",
       "  </thead>\n",
       "  <tbody>\n",
       "    <tr>\n",
       "      <th>AA</th>\n",
       "      <td>2013.0</td>\n",
       "      <td>6.493098</td>\n",
       "      <td>15.727549</td>\n",
       "      <td>1297.093561</td>\n",
       "      <td>8.569130</td>\n",
       "      <td>1521.329515</td>\n",
       "      <td>0.364291</td>\n",
       "      <td>916.124394</td>\n",
       "      <td>188.822299</td>\n",
       "      <td>1343.279870</td>\n",
       "      <td>12.657902</td>\n",
       "      <td>31.303346</td>\n",
       "    </tr>\n",
       "    <tr>\n",
       "      <th>AS</th>\n",
       "      <td>2013.0</td>\n",
       "      <td>6.433004</td>\n",
       "      <td>15.805360</td>\n",
       "      <td>1296.973202</td>\n",
       "      <td>5.830748</td>\n",
       "      <td>1566.758815</td>\n",
       "      <td>-9.930889</td>\n",
       "      <td>12.165021</td>\n",
       "      <td>325.617772</td>\n",
       "      <td>2402.000000</td>\n",
       "      <td>12.753173</td>\n",
       "      <td>21.655853</td>\n",
       "    </tr>\n",
       "    <tr>\n",
       "      <th>DL</th>\n",
       "      <td>2013.0</td>\n",
       "      <td>6.593038</td>\n",
       "      <td>15.791305</td>\n",
       "      <td>1350.931344</td>\n",
       "      <td>9.223950</td>\n",
       "      <td>1572.671346</td>\n",
       "      <td>1.644341</td>\n",
       "      <td>1374.079105</td>\n",
       "      <td>173.688804</td>\n",
       "      <td>1237.979143</td>\n",
       "      <td>13.178228</td>\n",
       "      <td>33.108523</td>\n",
       "    </tr>\n",
       "    <tr>\n",
       "      <th>UA</th>\n",
       "      <td>2013.0</td>\n",
       "      <td>6.572618</td>\n",
       "      <td>15.725157</td>\n",
       "      <td>1326.783583</td>\n",
       "      <td>12.016908</td>\n",
       "      <td>1508.482053</td>\n",
       "      <td>3.558011</td>\n",
       "      <td>961.800924</td>\n",
       "      <td>211.791354</td>\n",
       "      <td>1531.321363</td>\n",
       "      <td>12.958828</td>\n",
       "      <td>30.900782</td>\n",
       "    </tr>\n",
       "    <tr>\n",
       "      <th>US</th>\n",
       "      <td>2013.0</td>\n",
       "      <td>6.571933</td>\n",
       "      <td>15.672129</td>\n",
       "      <td>1231.431345</td>\n",
       "      <td>3.744693</td>\n",
       "      <td>1401.620039</td>\n",
       "      <td>2.129595</td>\n",
       "      <td>1620.216126</td>\n",
       "      <td>88.573799</td>\n",
       "      <td>560.825929</td>\n",
       "      <td>11.942918</td>\n",
       "      <td>37.139579</td>\n",
       "    </tr>\n",
       "  </tbody>\n",
       "</table>\n",
       "</div>"
      ],
      "text/plain": [
       "           year     month        day     dep_time  dep_delay     arr_time  \\\n",
       "carrier                                                                     \n",
       "AA       2013.0  6.493098  15.727549  1297.093561   8.569130  1521.329515   \n",
       "AS       2013.0  6.433004  15.805360  1296.973202   5.830748  1566.758815   \n",
       "DL       2013.0  6.593038  15.791305  1350.931344   9.223950  1572.671346   \n",
       "UA       2013.0  6.572618  15.725157  1326.783583  12.016908  1508.482053   \n",
       "US       2013.0  6.571933  15.672129  1231.431345   3.744693  1401.620039   \n",
       "\n",
       "         arr_delay       flight    air_time     distance       hour     minute  \n",
       "carrier                                                                         \n",
       "AA        0.364291   916.124394  188.822299  1343.279870  12.657902  31.303346  \n",
       "AS       -9.930889    12.165021  325.617772  2402.000000  12.753173  21.655853  \n",
       "DL        1.644341  1374.079105  173.688804  1237.979143  13.178228  33.108523  \n",
       "UA        3.558011   961.800924  211.791354  1531.321363  12.958828  30.900782  \n",
       "US        2.129595  1620.216126   88.573799   560.825929  11.942918  37.139579  "
      ]
     },
     "execution_count": 247,
     "metadata": {},
     "output_type": "execute_result"
    }
   ],
   "source": [
    "flightpi.mean()"
   ]
  },
  {
   "cell_type": "code",
   "execution_count": 271,
   "metadata": {},
   "outputs": [],
   "source": [
    "AA = flights['dep_delay'][flights['carrier'] == 'AA']\n",
    "AS = flights['dep_delay'][flights['carrier'] == 'AS']\n",
    "DL = flights['dep_delay'][flights['carrier'] == 'DL']\n",
    "UA = flights['dep_delay'][flights['carrier'] == 'UA']\n",
    "US = flights['dep_delay'][flights['carrier'] == 'US']\n"
   ]
  },
  {
   "cell_type": "code",
   "execution_count": 249,
   "metadata": {},
   "outputs": [
    {
     "name": "stderr",
     "output_type": "stream",
     "text": [
      "C:\\Users\\iphon\\Anaconda3\\lib\\site-packages\\matplotlib\\axes\\_axes.py:6462: UserWarning: The 'normed' kwarg is deprecated, and has been replaced by the 'density' kwarg.\n",
      "  warnings.warn(\"The 'normed' kwarg is deprecated, and has been \"\n"
     ]
    },
    {
     "data": {
      "text/plain": [
       "<matplotlib.axes._subplots.AxesSubplot at 0x21e4e484f28>"
      ]
     },
     "execution_count": 249,
     "metadata": {},
     "output_type": "execute_result"
    },
    {
     "data": {
      "image/png": "[encoded data removed]",
      "text/plain": [
       "<Figure size 432x288 with 1 Axes>"
      ]
     },
     "metadata": {},
     "output_type": "display_data"
    }
   ],
   "source": [
    "sns.distplot(AA)"
   ]
  },
  {
   "cell_type": "code",
   "execution_count": 250,
   "metadata": {},
   "outputs": [
    {
     "name": "stderr",
     "output_type": "stream",
     "text": [
      "C:\\Users\\iphon\\Anaconda3\\lib\\site-packages\\matplotlib\\axes\\_axes.py:6462: UserWarning: The 'normed' kwarg is deprecated, and has been replaced by the 'density' kwarg.\n",
      "  warnings.warn(\"The 'normed' kwarg is deprecated, and has been \"\n"
     ]
    },
    {
     "data": {
      "text/plain": [
       "<matplotlib.axes._subplots.AxesSubplot at 0x21e4e44f908>"
      ]
     },
     "execution_count": 250,
     "metadata": {},
     "output_type": "execute_result"
    },
    {
     "data": {
      "image/png": "[encoded data removed]",
      "text/plain": [
       "<Figure size 432x288 with 1 Axes>"
      ]
     },
     "metadata": {},
     "output_type": "display_data"
    }
   ],
   "source": [
    "sns.distplot(AS)"
   ]
  },
  {
   "cell_type": "code",
   "execution_count": 251,
   "metadata": {},
   "outputs": [
    {
     "name": "stderr",
     "output_type": "stream",
     "text": [
      "C:\\Users\\iphon\\Anaconda3\\lib\\site-packages\\matplotlib\\axes\\_axes.py:6462: UserWarning: The 'normed' kwarg is deprecated, and has been replaced by the 'density' kwarg.\n",
      "  warnings.warn(\"The 'normed' kwarg is deprecated, and has been \"\n"
     ]
    },
    {
     "data": {
      "text/plain": [
       "<matplotlib.axes._subplots.AxesSubplot at 0x21e548ed7b8>"
      ]
     },
     "execution_count": 251,
     "metadata": {},
     "output_type": "execute_result"
    },
    {
     "data": {
      "image/png": "[encoded data removed]",
      "text/plain": [
       "<Figure size 432x288 with 1 Axes>"
      ]
     },
     "metadata": {},
     "output_type": "display_data"
    }
   ],
   "source": [
    "sns.distplot(DL)"
   ]
  },
  {
   "cell_type": "code",
   "execution_count": 252,
   "metadata": {},
   "outputs": [
    {
     "name": "stderr",
     "output_type": "stream",
     "text": [
      "C:\\Users\\iphon\\Anaconda3\\lib\\site-packages\\matplotlib\\axes\\_axes.py:6462: UserWarning: The 'normed' kwarg is deprecated, and has been replaced by the 'density' kwarg.\n",
      "  warnings.warn(\"The 'normed' kwarg is deprecated, and has been \"\n"
     ]
    },
    {
     "data": {
      "text/plain": [
       "<matplotlib.axes._subplots.AxesSubplot at 0x21e54a00ba8>"
      ]
     },
     "execution_count": 252,
     "metadata": {},
     "output_type": "execute_result"
    },
    {
     "data": {
      "image/png": "[encoded data removed]",
      "text/plain": [
       "<Figure size 432x288 with 1 Axes>"
      ]
     },
     "metadata": {},
     "output_type": "display_data"
    }
   ],
   "source": [
    "sns.distplot(UA)"
   ]
  },
  {
   "cell_type": "code",
   "execution_count": 253,
   "metadata": {},
   "outputs": [
    {
     "name": "stderr",
     "output_type": "stream",
     "text": [
      "C:\\Users\\iphon\\Anaconda3\\lib\\site-packages\\matplotlib\\axes\\_axes.py:6462: UserWarning: The 'normed' kwarg is deprecated, and has been replaced by the 'density' kwarg.\n",
      "  warnings.warn(\"The 'normed' kwarg is deprecated, and has been \"\n"
     ]
    },
    {
     "data": {
      "text/plain": [
       "<matplotlib.axes._subplots.AxesSubplot at 0x21e534f1a90>"
      ]
     },
     "execution_count": 253,
     "metadata": {},
     "output_type": "execute_result"
    },
    {
     "data": {
      "image/png": "[encoded data removed]",
      "text/plain": [
       "<Figure size 432x288 with 1 Axes>"
      ]
     },
     "metadata": {},
     "output_type": "display_data"
    }
   ],
   "source": [
    "sns.distplot(US)"
   ]
  },
  {
   "cell_type": "code",
   "execution_count": 272,
   "metadata": {},
   "outputs": [],
   "source": [
    "AA = AA.sample(n=200, random_state=10 , replace=True)\n",
    "AS = AS.sample(n=200, random_state=10 , replace=True)\n",
    "DL = DL.sample(n=200, random_state=10 , replace=True)\n",
    "UA = UA.sample(n=200, random_state=10 , replace=True)\n",
    "US = US.sample(n=200, random_state=10 , replace=True)\n"
   ]
  },
  {
   "cell_type": "code",
   "execution_count": 273,
   "metadata": {},
   "outputs": [
    {
     "name": "stderr",
     "output_type": "stream",
     "text": [
      "C:\\Users\\iphon\\Anaconda3\\lib\\site-packages\\matplotlib\\axes\\_axes.py:6462: UserWarning: The 'normed' kwarg is deprecated, and has been replaced by the 'density' kwarg.\n",
      "  warnings.warn(\"The 'normed' kwarg is deprecated, and has been \"\n"
     ]
    },
    {
     "data": {
      "text/plain": [
       "<matplotlib.axes._subplots.AxesSubplot at 0x21e4e3257f0>"
      ]
     },
     "execution_count": 273,
     "metadata": {},
     "output_type": "execute_result"
    },
    {
     "data": {
      "image/png": "[encoded data removed]",
      "text/plain": [
       "<Figure size 432x288 with 1 Axes>"
      ]
     },
     "metadata": {},
     "output_type": "display_data"
    }
   ],
   "source": [
    "sns.distplot(AA)"
   ]
  },
  {
   "cell_type": "code",
   "execution_count": 274,
   "metadata": {},
   "outputs": [
    {
     "name": "stderr",
     "output_type": "stream",
     "text": [
      "C:\\Users\\iphon\\Anaconda3\\lib\\site-packages\\matplotlib\\axes\\_axes.py:6462: UserWarning: The 'normed' kwarg is deprecated, and has been replaced by the 'density' kwarg.\n",
      "  warnings.warn(\"The 'normed' kwarg is deprecated, and has been \"\n"
     ]
    },
    {
     "data": {
      "text/plain": [
       "<matplotlib.axes._subplots.AxesSubplot at 0x21e580c8cc0>"
      ]
     },
     "execution_count": 274,
     "metadata": {},
     "output_type": "execute_result"
    },
    {
     "data": {
      "image/png": "[encoded data removed]",
      "text/plain": [
       "<Figure size 432x288 with 1 Axes>"
      ]
     },
     "metadata": {},
     "output_type": "display_data"
    }
   ],
   "source": [
    "sns.distplot(AS)"
   ]
  },
  {
   "cell_type": "code",
   "execution_count": 275,
   "metadata": {},
   "outputs": [
    {
     "name": "stderr",
     "output_type": "stream",
     "text": [
      "C:\\Users\\iphon\\Anaconda3\\lib\\site-packages\\matplotlib\\axes\\_axes.py:6462: UserWarning: The 'normed' kwarg is deprecated, and has been replaced by the 'density' kwarg.\n",
      "  warnings.warn(\"The 'normed' kwarg is deprecated, and has been \"\n"
     ]
    },
    {
     "data": {
      "text/plain": [
       "<matplotlib.axes._subplots.AxesSubplot at 0x21e5815b160>"
      ]
     },
     "execution_count": 275,
     "metadata": {},
     "output_type": "execute_result"
    },
    {
     "data": {
      "image/png": "[encoded data removed]",
      "text/plain": [
       "<Figure size 432x288 with 1 Axes>"
      ]
     },
     "metadata": {},
     "output_type": "display_data"
    }
   ],
   "source": [
    "sns.distplot(DL)"
   ]
  },
  {
   "cell_type": "code",
   "execution_count": 276,
   "metadata": {},
   "outputs": [
    {
     "name": "stderr",
     "output_type": "stream",
     "text": [
      "C:\\Users\\iphon\\Anaconda3\\lib\\site-packages\\matplotlib\\axes\\_axes.py:6462: UserWarning: The 'normed' kwarg is deprecated, and has been replaced by the 'density' kwarg.\n",
      "  warnings.warn(\"The 'normed' kwarg is deprecated, and has been \"\n"
     ]
    },
    {
     "data": {
      "text/plain": [
       "<matplotlib.axes._subplots.AxesSubplot at 0x21e5825a828>"
      ]
     },
     "execution_count": 276,
     "metadata": {},
     "output_type": "execute_result"
    },
    {
     "data": {
      "image/png": "[encoded data removed]",
      "text/plain": [
       "<Figure size 432x288 with 1 Axes>"
      ]
     },
     "metadata": {},
     "output_type": "display_data"
    }
   ],
   "source": [
    "sns.distplot(UA)"
   ]
  },
  {
   "cell_type": "code",
   "execution_count": 277,
   "metadata": {},
   "outputs": [
    {
     "name": "stderr",
     "output_type": "stream",
     "text": [
      "C:\\Users\\iphon\\Anaconda3\\lib\\site-packages\\matplotlib\\axes\\_axes.py:6462: UserWarning: The 'normed' kwarg is deprecated, and has been replaced by the 'density' kwarg.\n",
      "  warnings.warn(\"The 'normed' kwarg is deprecated, and has been \"\n"
     ]
    },
    {
     "data": {
      "text/plain": [
       "<matplotlib.axes._subplots.AxesSubplot at 0x21e5830fd68>"
      ]
     },
     "execution_count": 277,
     "metadata": {},
     "output_type": "execute_result"
    },
    {
     "data": {
      "image/png": "[encoded data removed]",
      "text/plain": [
       "<Figure size 432x288 with 1 Axes>"
      ]
     },
     "metadata": {},
     "output_type": "display_data"
    }
   ],
   "source": [
    "sns.distplot(US)"
   ]
  },
  {
   "cell_type": "code",
   "execution_count": 278,
   "metadata": {},
   "outputs": [
    {
     "name": "stdout",
     "output_type": "stream",
     "text": [
      "F statistic = 2.583 and probability p = 0.0358313738\n"
     ]
    }
   ],
   "source": [
    "F, p = sp.stats.f_oneway(AA, UA, AS, US, DL)\n",
    "\n",
    "print('F statistic = {:5.3f} and probability p = {:5.10f}'.format(F, p)) "
   ]
  },
  {
   "cell_type": "code",
   "execution_count": 279,
   "metadata": {},
   "outputs": [
    {
     "name": "stdout",
     "output_type": "stream",
     "text": [
      "                 sum_sq    df         F  PR(>F)\n",
      "carrier     1348.458319   3.0  0.362244  0.7804\n",
      "Residual  119120.301681  96.0       NaN     NaN\n"
     ]
    }
   ],
   "source": [
    "import statsmodels.api as sm\n",
    "from statsmodels.formula.api import ols\n",
    " \n",
    "mod = ols('dep_delay ~ carrier',\n",
    "                data=flightsample).fit()\n",
    "                \n",
    "aov_table = sm.stats.anova_lm(mod, typ=2)\n",
    "print(aov_table)"
   ]
  },
  {
   "cell_type": "code",
   "execution_count": 280,
   "metadata": {},
   "outputs": [
    {
     "data": {
      "text/plain": [
       "((0.42686688899993896, 6.876640533622237e-25),\n",
       " (0.5244361162185669, 5.299949369952884e-23),\n",
       " (0.27414530515670776, 2.162828572010599e-27),\n",
       " (0.48124319314956665, 7.163776831222275e-24),\n",
       " (0.5002356171607971, 1.6987890824271975e-23))"
      ]
     },
     "execution_count": 280,
     "metadata": {},
     "output_type": "execute_result"
    }
   ],
   "source": [
    "sp.stats.shapiro(US), sp.stats.shapiro(AS), sp.stats.shapiro(DL) ,sp.stats.shapiro(UA), sp.stats.shapiro(AA)"
   ]
  },
  {
   "cell_type": "code",
   "execution_count": 281,
   "metadata": {},
   "outputs": [
    {
     "data": {
      "text/plain": [
       "((array([-2.70069508, -2.39117927, -2.21476595, -2.08844273, -1.98865134,\n",
       "         -1.90545091, -1.83366817, -1.77025272, -1.7132485 , -1.66132288,\n",
       "         -1.61352545, -1.56915347, -1.52767212, -1.48866446, -1.45179889,\n",
       "         -1.41680716, -1.38346902, -1.35160134, -1.32105008, -1.29168444,\n",
       "         -1.26339229, -1.23607681, -1.20965371, -1.18404921, -1.1591983 ,\n",
       "         -1.13504337, -1.11153314, -1.08862177, -1.06626803, -1.04443478,\n",
       "         -1.02308837, -1.00219826, -0.9817366 , -0.96167793, -0.94199891,\n",
       "         -0.9226781 , -0.90369573, -0.88503353, -0.86667459, -0.84860322,\n",
       "         -0.83080482, -0.8132658 , -0.79597346, -0.77891592, -0.76208206,\n",
       "         -0.74546144, -0.72904425, -0.71282124, -0.69678371, -0.68092342,\n",
       "         -0.6652326 , -0.64970389, -0.63433029, -0.61910517, -0.60402223,\n",
       "         -0.58907547, -0.57425918, -0.55956789, -0.5449964 , -0.53053972,\n",
       "         -0.51619308, -0.50195192, -0.48781183, -0.47376862, -0.45981823,\n",
       "         -0.44595676, -0.43218046, -0.41848569, -0.40486897, -0.39132691,\n",
       "         -0.37785624, -0.36445379, -0.35111649, -0.33784135, -0.3246255 ,\n",
       "         -0.3114661 , -0.29836042, -0.28530579, -0.2722996 , -0.25933932,\n",
       "         -0.24642245, -0.23354657, -0.2207093 , -0.20790829, -0.19514126,\n",
       "         -0.18240597, -0.16970019, -0.15702175, -0.1443685 , -0.13173832,\n",
       "         -0.11912912, -0.10653884, -0.09396542, -0.08140684, -0.06886109,\n",
       "         -0.05632616, -0.04380009, -0.03128088, -0.01876657, -0.0062552 ,\n",
       "          0.0062552 ,  0.01876657,  0.03128088,  0.04380009,  0.05632616,\n",
       "          0.06886109,  0.08140684,  0.09396542,  0.10653884,  0.11912912,\n",
       "          0.13173832,  0.1443685 ,  0.15702175,  0.16970019,  0.18240597,\n",
       "          0.19514126,  0.20790829,  0.2207093 ,  0.23354657,  0.24642245,\n",
       "          0.25933932,  0.2722996 ,  0.28530579,  0.29836042,  0.3114661 ,\n",
       "          0.3246255 ,  0.33784135,  0.35111649,  0.36445379,  0.37785624,\n",
       "          0.39132691,  0.40486897,  0.41848569,  0.43218046,  0.44595676,\n",
       "          0.45981823,  0.47376862,  0.48781183,  0.50195192,  0.51619308,\n",
       "          0.53053972,  0.5449964 ,  0.55956789,  0.57425918,  0.58907547,\n",
       "          0.60402223,  0.61910517,  0.63433029,  0.64970389,  0.6652326 ,\n",
       "          0.68092342,  0.69678371,  0.71282124,  0.72904425,  0.74546144,\n",
       "          0.76208206,  0.77891592,  0.79597346,  0.8132658 ,  0.83080482,\n",
       "          0.84860322,  0.86667459,  0.88503353,  0.90369573,  0.9226781 ,\n",
       "          0.94199891,  0.96167793,  0.9817366 ,  1.00219826,  1.02308837,\n",
       "          1.04443478,  1.06626803,  1.08862177,  1.11153314,  1.13504337,\n",
       "          1.1591983 ,  1.18404921,  1.20965371,  1.23607681,  1.26339229,\n",
       "          1.29168444,  1.32105008,  1.35160134,  1.38346902,  1.41680716,\n",
       "          1.45179889,  1.48866446,  1.52767212,  1.56915347,  1.61352545,\n",
       "          1.66132288,  1.7132485 ,  1.77025272,  1.83366817,  1.90545091,\n",
       "          1.98865134,  2.08844273,  2.21476595,  2.39117927,  2.70069508]),\n",
       "  array([-14., -10., -10., -10., -10.,  -9.,  -9.,  -9.,  -9.,  -9.,  -9.,\n",
       "          -9.,  -8.,  -8.,  -8.,  -8.,  -8.,  -7.,  -7.,  -7.,  -7.,  -7.,\n",
       "          -7.,  -7.,  -7.,  -7.,  -7.,  -6.,  -6.,  -6.,  -6.,  -6.,  -6.,\n",
       "          -6.,  -6.,  -6.,  -6.,  -6.,  -6.,  -6.,  -6.,  -5.,  -5.,  -5.,\n",
       "          -5.,  -5.,  -5.,  -5.,  -5.,  -5.,  -5.,  -5.,  -5.,  -5.,  -4.,\n",
       "          -4.,  -4.,  -4.,  -4.,  -4.,  -4.,  -4.,  -4.,  -4.,  -4.,  -4.,\n",
       "          -4.,  -4.,  -4.,  -4.,  -4.,  -4.,  -4.,  -4.,  -4.,  -4.,  -4.,\n",
       "          -3.,  -3.,  -3.,  -3.,  -3.,  -3.,  -3.,  -3.,  -3.,  -3.,  -3.,\n",
       "          -3.,  -3.,  -3.,  -3.,  -2.,  -2.,  -2.,  -2.,  -2.,  -2.,  -2.,\n",
       "          -2.,  -2.,  -2.,  -2.,  -1.,  -1.,  -1.,  -1.,  -1.,  -1.,  -1.,\n",
       "          -1.,  -1.,  -1.,  -1.,  -1.,   0.,   0.,   0.,   0.,   0.,   0.,\n",
       "           0.,   0.,   0.,   0.,   0.,   0.,   1.,   1.,   1.,   1.,   2.,\n",
       "           2.,   2.,   2.,   3.,   3.,   3.,   3.,   4.,   4.,   4.,   4.,\n",
       "           4.,   5.,   5.,   6.,   6.,   6.,   6.,   7.,   7.,   7.,   9.,\n",
       "           9.,   9.,  10.,  12.,  13.,  15.,  17.,  18.,  18.,  19.,  19.,\n",
       "          19.,  19.,  20.,  20.,  20.,  21.,  22.,  23.,  24.,  25.,  27.,\n",
       "          29.,  29.,  32.,  32.,  37.,  38.,  41.,  43.,  64.,  72.,  87.,\n",
       "          87.,  94., 103., 108., 110., 112., 132., 140., 146., 193., 203.,\n",
       "         224., 225.])),\n",
       " (28.123682067167838, 11.705000000000002, 0.7039594353153912))"
      ]
     },
     "execution_count": 281,
     "metadata": {},
     "output_type": "execute_result"
    },
    {
     "data": {
      "image/png": "[encoded data removed]",
      "text/plain": [
       "<Figure size 432x288 with 1 Axes>"
      ]
     },
     "metadata": {},
     "output_type": "display_data"
    }
   ],
   "source": [
    "sp.stats.probplot(AA, plot=plt)"
   ]
  },
  {
   "cell_type": "code",
   "execution_count": 265,
   "metadata": {},
   "outputs": [
    {
     "data": {
      "text/plain": [
       "((array([-2.99209858e+00, -2.71015927e+00, -2.55162541e+00, -2.43921385e+00,\n",
       "         -2.35113311e+00, -2.27822091e+00, -2.21572267e+00, -2.16084152e+00,\n",
       "         -2.11178767e+00, -2.06734403e+00, -2.02664403e+00, -1.98904794e+00,\n",
       "         -1.95406954e+00, -1.92133033e+00, -1.89052965e+00, -1.86142459e+00,\n",
       "         -1.83381593e+00, -1.80753820e+00, -1.78245240e+00, -1.75844061e+00,\n",
       "         -1.73540186e+00, -1.71324904e+00, -1.69190643e+00, -1.67130780e+00,\n",
       "         -1.65139483e+00, -1.63211595e+00, -1.61342528e+00, -1.59528183e+00,\n",
       "         -1.57764883e+00, -1.56049314e+00, -1.54378481e+00, -1.52749667e+00,\n",
       "         -1.51160399e+00, -1.49608418e+00, -1.48091659e+00, -1.46608224e+00,\n",
       "         -1.45156367e+00, -1.43734479e+00, -1.42341071e+00, -1.40974764e+00,\n",
       "         -1.39634279e+00, -1.38318426e+00, -1.37026095e+00, -1.35756253e+00,\n",
       "         -1.34507932e+00, -1.33280226e+00, -1.32072287e+00, -1.30883317e+00,\n",
       "         -1.29712567e+00, -1.28559331e+00, -1.27422944e+00, -1.26302778e+00,\n",
       "         -1.25198239e+00, -1.24108768e+00, -1.23033831e+00, -1.21972926e+00,\n",
       "         -1.20925574e+00, -1.19891322e+00, -1.18869738e+00, -1.17860411e+00,\n",
       "         -1.16862950e+00, -1.15876983e+00, -1.14902154e+00, -1.13938123e+00,\n",
       "         -1.12984566e+00, -1.12041173e+00, -1.11107648e+00, -1.10183707e+00,\n",
       "         -1.09269077e+00, -1.08363498e+00, -1.07466719e+00, -1.06578501e+00,\n",
       "         -1.05698612e+00, -1.04826831e+00, -1.03962946e+00, -1.03106750e+00,\n",
       "         -1.02258046e+00, -1.01416645e+00, -1.00582364e+00, -9.97550247e-01,\n",
       "         -9.89344581e-01, -9.81204996e-01, -9.73129904e-01, -9.65117774e-01,\n",
       "         -9.57167125e-01, -9.49276525e-01, -9.41444591e-01, -9.33669982e-01,\n",
       "         -9.25951403e-01, -9.18287599e-01, -9.10677353e-01, -9.03119487e-01,\n",
       "         -8.95612861e-01, -8.88156365e-01, -8.80748927e-01, -8.73389502e-01,\n",
       "         -8.66077081e-01, -8.58810678e-01, -8.51589342e-01, -8.44412143e-01,\n",
       "         -8.37278180e-01, -8.30186576e-01, -8.23136480e-01, -8.16127061e-01,\n",
       "         -8.09157513e-01, -8.02227049e-01, -7.95334905e-01, -7.88480336e-01,\n",
       "         -7.81662614e-01, -7.74881033e-01, -7.68134903e-01, -7.61423551e-01,\n",
       "         -7.54746322e-01, -7.48102575e-01, -7.41491685e-01, -7.34913044e-01,\n",
       "         -7.28366057e-01, -7.21850142e-01, -7.15364731e-01, -7.08909270e-01,\n",
       "         -7.02483218e-01, -6.96086043e-01, -6.89717230e-01, -6.83376271e-01,\n",
       "         -6.77062670e-01, -6.70775943e-01, -6.64515617e-01, -6.58281226e-01,\n",
       "         -6.52072317e-01, -6.45888445e-01, -6.39729174e-01, -6.33594076e-01,\n",
       "         -6.27482735e-01, -6.21394740e-01, -6.15329690e-01, -6.09287191e-01,\n",
       "         -6.03266856e-01, -5.97268307e-01, -5.91291174e-01, -5.85335090e-01,\n",
       "         -5.79399700e-01, -5.73484651e-01, -5.67589599e-01, -5.61714207e-01,\n",
       "         -5.55858142e-01, -5.50021077e-01, -5.44202692e-01, -5.38402673e-01,\n",
       "         -5.32620709e-01, -5.26856497e-01, -5.21109737e-01, -5.15380136e-01,\n",
       "         -5.09667405e-01, -5.03971258e-01, -4.98291417e-01, -4.92627606e-01,\n",
       "         -4.86979553e-01, -4.81346993e-01, -4.75729663e-01, -4.70127305e-01,\n",
       "         -4.64539663e-01, -4.58966488e-01, -4.53407532e-01, -4.47862553e-01,\n",
       "         -4.42331309e-01, -4.36813566e-01, -4.31309089e-01, -4.25817651e-01,\n",
       "         -4.20339023e-01, -4.14872983e-01, -4.09419311e-01, -4.03977788e-01,\n",
       "         -3.98548202e-01, -3.93130339e-01, -3.87723992e-01, -3.82328953e-01,\n",
       "         -3.76945020e-01, -3.71571992e-01, -3.66209669e-01, -3.60857856e-01,\n",
       "         -3.55516359e-01, -3.50184986e-01, -3.44863547e-01, -3.39551857e-01,\n",
       "         -3.34249730e-01, -3.28956983e-01, -3.23673435e-01, -3.18398908e-01,\n",
       "         -3.13133223e-01, -3.07876207e-01, -3.02627686e-01, -2.97387487e-01,\n",
       "         -2.92155443e-01, -2.86931384e-01, -2.81715143e-01, -2.76506557e-01,\n",
       "         -2.71305462e-01, -2.66111695e-01, -2.60925097e-01, -2.55745509e-01,\n",
       "         -2.50572773e-01, -2.45406732e-01, -2.40247233e-01, -2.35094122e-01,\n",
       "         -2.29947246e-01, -2.24806454e-01, -2.19671596e-01, -2.14542524e-01,\n",
       "         -2.09419090e-01, -2.04301147e-01, -1.99188550e-01, -1.94081154e-01,\n",
       "         -1.88978816e-01, -1.83881393e-01, -1.78788743e-01, -1.73700727e-01,\n",
       "         -1.68617203e-01, -1.63538032e-01, -1.58463078e-01, -1.53392201e-01,\n",
       "         -1.48325265e-01, -1.43262135e-01, -1.38202675e-01, -1.33146749e-01,\n",
       "         -1.28094226e-01, -1.23044970e-01, -1.17998849e-01, -1.12955731e-01,\n",
       "         -1.07915484e-01, -1.02877978e-01, -9.78430801e-02, -9.28106619e-02,\n",
       "         -8.77805930e-02, -8.27527442e-02, -7.77269864e-02, -7.27031911e-02,\n",
       "         -6.76812301e-02, -6.26609755e-02, -5.76422995e-02, -5.26250751e-02,\n",
       "         -4.76091750e-02, -4.25944724e-02, -3.75808407e-02, -3.25681535e-02,\n",
       "         -2.75562846e-02, -2.25451077e-02, -1.75344969e-02, -1.25243263e-02,\n",
       "         -7.51447003e-03, -2.50480239e-03,  2.50480239e-03,  7.51447003e-03,\n",
       "          1.25243263e-02,  1.75344969e-02,  2.25451077e-02,  2.75562846e-02,\n",
       "          3.25681535e-02,  3.75808407e-02,  4.25944724e-02,  4.76091750e-02,\n",
       "          5.26250751e-02,  5.76422995e-02,  6.26609755e-02,  6.76812301e-02,\n",
       "          7.27031911e-02,  7.77269864e-02,  8.27527442e-02,  8.77805930e-02,\n",
       "          9.28106619e-02,  9.78430801e-02,  1.02877978e-01,  1.07915484e-01,\n",
       "          1.12955731e-01,  1.17998849e-01,  1.23044970e-01,  1.28094226e-01,\n",
       "          1.33146749e-01,  1.38202675e-01,  1.43262135e-01,  1.48325265e-01,\n",
       "          1.53392201e-01,  1.58463078e-01,  1.63538032e-01,  1.68617203e-01,\n",
       "          1.73700727e-01,  1.78788743e-01,  1.83881393e-01,  1.88978816e-01,\n",
       "          1.94081154e-01,  1.99188550e-01,  2.04301147e-01,  2.09419090e-01,\n",
       "          2.14542524e-01,  2.19671596e-01,  2.24806454e-01,  2.29947246e-01,\n",
       "          2.35094122e-01,  2.40247233e-01,  2.45406732e-01,  2.50572773e-01,\n",
       "          2.55745509e-01,  2.60925097e-01,  2.66111695e-01,  2.71305462e-01,\n",
       "          2.76506557e-01,  2.81715143e-01,  2.86931384e-01,  2.92155443e-01,\n",
       "          2.97387487e-01,  3.02627686e-01,  3.07876207e-01,  3.13133223e-01,\n",
       "          3.18398908e-01,  3.23673435e-01,  3.28956983e-01,  3.34249730e-01,\n",
       "          3.39551857e-01,  3.44863547e-01,  3.50184986e-01,  3.55516359e-01,\n",
       "          3.60857856e-01,  3.66209669e-01,  3.71571992e-01,  3.76945020e-01,\n",
       "          3.82328953e-01,  3.87723992e-01,  3.93130339e-01,  3.98548202e-01,\n",
       "          4.03977788e-01,  4.09419311e-01,  4.14872983e-01,  4.20339023e-01,\n",
       "          4.25817651e-01,  4.31309089e-01,  4.36813566e-01,  4.42331309e-01,\n",
       "          4.47862553e-01,  4.53407532e-01,  4.58966488e-01,  4.64539663e-01,\n",
       "          4.70127305e-01,  4.75729663e-01,  4.81346993e-01,  4.86979553e-01,\n",
       "          4.92627606e-01,  4.98291417e-01,  5.03971258e-01,  5.09667405e-01,\n",
       "          5.15380136e-01,  5.21109737e-01,  5.26856497e-01,  5.32620709e-01,\n",
       "          5.38402673e-01,  5.44202692e-01,  5.50021077e-01,  5.55858142e-01,\n",
       "          5.61714207e-01,  5.67589599e-01,  5.73484651e-01,  5.79399700e-01,\n",
       "          5.85335090e-01,  5.91291174e-01,  5.97268307e-01,  6.03266856e-01,\n",
       "          6.09287191e-01,  6.15329690e-01,  6.21394740e-01,  6.27482735e-01,\n",
       "          6.33594076e-01,  6.39729174e-01,  6.45888445e-01,  6.52072317e-01,\n",
       "          6.58281226e-01,  6.64515617e-01,  6.70775943e-01,  6.77062670e-01,\n",
       "          6.83376271e-01,  6.89717230e-01,  6.96086043e-01,  7.02483218e-01,\n",
       "          7.08909270e-01,  7.15364731e-01,  7.21850142e-01,  7.28366057e-01,\n",
       "          7.34913044e-01,  7.41491685e-01,  7.48102575e-01,  7.54746322e-01,\n",
       "          7.61423551e-01,  7.68134903e-01,  7.74881033e-01,  7.81662614e-01,\n",
       "          7.88480336e-01,  7.95334905e-01,  8.02227049e-01,  8.09157513e-01,\n",
       "          8.16127061e-01,  8.23136480e-01,  8.30186576e-01,  8.37278180e-01,\n",
       "          8.44412143e-01,  8.51589342e-01,  8.58810678e-01,  8.66077081e-01,\n",
       "          8.73389502e-01,  8.80748927e-01,  8.88156365e-01,  8.95612861e-01,\n",
       "          9.03119487e-01,  9.10677353e-01,  9.18287599e-01,  9.25951403e-01,\n",
       "          9.33669982e-01,  9.41444591e-01,  9.49276525e-01,  9.57167125e-01,\n",
       "          9.65117774e-01,  9.73129904e-01,  9.81204996e-01,  9.89344581e-01,\n",
       "          9.97550247e-01,  1.00582364e+00,  1.01416645e+00,  1.02258046e+00,\n",
       "          1.03106750e+00,  1.03962946e+00,  1.04826831e+00,  1.05698612e+00,\n",
       "          1.06578501e+00,  1.07466719e+00,  1.08363498e+00,  1.09269077e+00,\n",
       "          1.10183707e+00,  1.11107648e+00,  1.12041173e+00,  1.12984566e+00,\n",
       "          1.13938123e+00,  1.14902154e+00,  1.15876983e+00,  1.16862950e+00,\n",
       "          1.17860411e+00,  1.18869738e+00,  1.19891322e+00,  1.20925574e+00,\n",
       "          1.21972926e+00,  1.23033831e+00,  1.24108768e+00,  1.25198239e+00,\n",
       "          1.26302778e+00,  1.27422944e+00,  1.28559331e+00,  1.29712567e+00,\n",
       "          1.30883317e+00,  1.32072287e+00,  1.33280226e+00,  1.34507932e+00,\n",
       "          1.35756253e+00,  1.37026095e+00,  1.38318426e+00,  1.39634279e+00,\n",
       "          1.40974764e+00,  1.42341071e+00,  1.43734479e+00,  1.45156367e+00,\n",
       "          1.46608224e+00,  1.48091659e+00,  1.49608418e+00,  1.51160399e+00,\n",
       "          1.52749667e+00,  1.54378481e+00,  1.56049314e+00,  1.57764883e+00,\n",
       "          1.59528183e+00,  1.61342528e+00,  1.63211595e+00,  1.65139483e+00,\n",
       "          1.67130780e+00,  1.69190643e+00,  1.71324904e+00,  1.73540186e+00,\n",
       "          1.75844061e+00,  1.78245240e+00,  1.80753820e+00,  1.83381593e+00,\n",
       "          1.86142459e+00,  1.89052965e+00,  1.92133033e+00,  1.95406954e+00,\n",
       "          1.98904794e+00,  2.02664403e+00,  2.06734403e+00,  2.11178767e+00,\n",
       "          2.16084152e+00,  2.21572267e+00,  2.27822091e+00,  2.35113311e+00,\n",
       "          2.43921385e+00,  2.55162541e+00,  2.71015927e+00,  2.99209858e+00]),\n",
       "  array([-21., -21., -21., -17., -16., -16., -16., -16., -15., -15., -15.,\n",
       "         -15., -15., -15., -15., -14., -14., -14., -13., -13., -13., -13.,\n",
       "         -13., -13., -13., -12., -12., -12., -12., -12., -12., -12., -12.,\n",
       "         -11., -11., -11., -11., -11., -11., -11., -11., -11., -11., -11.,\n",
       "         -11., -11., -11., -10., -10., -10., -10., -10., -10., -10., -10.,\n",
       "         -10., -10., -10., -10., -10., -10., -10., -10., -10., -10.,  -9.,\n",
       "          -9.,  -9.,  -9.,  -9.,  -9.,  -9.,  -9.,  -9.,  -9.,  -9.,  -9.,\n",
       "          -9.,  -9.,  -9.,  -9.,  -9.,  -9.,  -8.,  -8.,  -8.,  -8.,  -8.,\n",
       "          -8.,  -8.,  -8.,  -8.,  -8.,  -8.,  -8.,  -8.,  -8.,  -8.,  -8.,\n",
       "          -8.,  -8.,  -8.,  -8.,  -8.,  -8.,  -8.,  -8.,  -8.,  -8.,  -8.,\n",
       "          -8.,  -8.,  -8.,  -8.,  -8.,  -8.,  -7.,  -7.,  -7.,  -7.,  -7.,\n",
       "          -7.,  -7.,  -7.,  -7.,  -7.,  -7.,  -7.,  -7.,  -7.,  -7.,  -7.,\n",
       "          -7.,  -7.,  -7.,  -7.,  -7.,  -7.,  -7.,  -7.,  -7.,  -7.,  -6.,\n",
       "          -6.,  -6.,  -6.,  -6.,  -6.,  -6.,  -6.,  -6.,  -6.,  -6.,  -6.,\n",
       "          -6.,  -6.,  -6.,  -6.,  -6.,  -6.,  -6.,  -6.,  -6.,  -6.,  -6.,\n",
       "          -6.,  -6.,  -6.,  -6.,  -6.,  -6.,  -6.,  -6.,  -6.,  -6.,  -6.,\n",
       "          -6.,  -6.,  -6.,  -6.,  -6.,  -6.,  -6.,  -6.,  -6.,  -6.,  -6.,\n",
       "          -6.,  -6.,  -6.,  -6.,  -5.,  -5.,  -5.,  -5.,  -5.,  -5.,  -5.,\n",
       "          -5.,  -5.,  -5.,  -5.,  -5.,  -5.,  -5.,  -5.,  -5.,  -5.,  -5.,\n",
       "          -5.,  -5.,  -5.,  -5.,  -5.,  -5.,  -5.,  -5.,  -5.,  -5.,  -5.,\n",
       "          -5.,  -5.,  -5.,  -5.,  -5.,  -5.,  -5.,  -5.,  -4.,  -4.,  -4.,\n",
       "          -4.,  -4.,  -4.,  -4.,  -4.,  -4.,  -4.,  -4.,  -4.,  -4.,  -4.,\n",
       "          -4.,  -4.,  -4.,  -4.,  -4.,  -4.,  -4.,  -4.,  -4.,  -4.,  -4.,\n",
       "          -4.,  -4.,  -4.,  -3.,  -3.,  -3.,  -3.,  -3.,  -3.,  -3.,  -3.,\n",
       "          -3.,  -3.,  -3.,  -3.,  -3.,  -3.,  -3.,  -3.,  -3.,  -3.,  -3.,\n",
       "          -3.,  -3.,  -3.,  -3.,  -3.,  -3.,  -3.,  -3.,  -3.,  -3.,  -3.,\n",
       "          -3.,  -2.,  -2.,  -2.,  -2.,  -2.,  -2.,  -2.,  -2.,  -2.,  -2.,\n",
       "          -2.,  -2.,  -2.,  -2.,  -2.,  -2.,  -2.,  -1.,  -1.,  -1.,  -1.,\n",
       "          -1.,  -1.,  -1.,  -1.,  -1.,  -1.,  -1.,  -1.,  -1.,  -1.,  -1.,\n",
       "          -1.,  -1.,  -1.,  -1.,  -1.,  -1.,  -1.,  -1.,  -1.,  -1.,  -1.,\n",
       "          -1.,   0.,   0.,   0.,   0.,   0.,   0.,   0.,   0.,   0.,   0.,\n",
       "           0.,   0.,   0.,   0.,   0.,   0.,   0.,   0.,   0.,   0.,   0.,\n",
       "           1.,   1.,   1.,   1.,   1.,   1.,   1.,   1.,   1.,   1.,   1.,\n",
       "           1.,   1.,   2.,   2.,   2.,   2.,   2.,   2.,   2.,   2.,   2.,\n",
       "           2.,   2.,   2.,   2.,   2.,   2.,   2.,   3.,   3.,   3.,   3.,\n",
       "           3.,   3.,   4.,   4.,   4.,   4.,   4.,   4.,   4.,   4.,   4.,\n",
       "           4.,   5.,   5.,   6.,   6.,   6.,   6.,   6.,   6.,   6.,   6.,\n",
       "           7.,   7.,   7.,   7.,   7.,   8.,   8.,   8.,   8.,   8.,  10.,\n",
       "          10.,  10.,  10.,  11.,  11.,  11.,  12.,  12.,  13.,  13.,  13.,\n",
       "          13.,  13.,  14.,  14.,  15.,  15.,  15.,  15.,  15.,  17.,  17.,\n",
       "          18.,  19.,  20.,  21.,  21.,  21.,  22.,  28.,  29.,  31.,  31.,\n",
       "          34.,  36.,  37.,  37.,  40.,  43.,  45.,  48.,  55.,  55.,  55.,\n",
       "          56.,  59.,  59.,  59.,  66.,  74.,  74.,  80.,  80.,  81.,  83.,\n",
       "          83.,  84.,  84.,  84.,  85.,  93., 100., 100., 100., 100., 122.,\n",
       "         127., 141., 142., 142., 142., 142., 146., 153., 153., 153., 167.,\n",
       "         193., 193., 205., 222., 222.])),\n",
       " (25.27706096936042, 7.130000000000002, 0.7071503195106799))"
      ]
     },
     "execution_count": 265,
     "metadata": {},
     "output_type": "execute_result"
    },
    {
     "data": {
      "image/png": "[encoded data removed]",
      "text/plain": [
       "<Figure size 432x288 with 1 Axes>"
      ]
     },
     "metadata": {},
     "output_type": "display_data"
    }
   ],
   "source": [
    "sp.stats.probplot(AS, plot=plt)"
   ]
  },
  {
   "cell_type": "code",
   "execution_count": 266,
   "metadata": {},
   "outputs": [
    {
     "data": {
      "text/plain": [
       "((array([-2.99209858e+00, -2.71015927e+00, -2.55162541e+00, -2.43921385e+00,\n",
       "         -2.35113311e+00, -2.27822091e+00, -2.21572267e+00, -2.16084152e+00,\n",
       "         -2.11178767e+00, -2.06734403e+00, -2.02664403e+00, -1.98904794e+00,\n",
       "         -1.95406954e+00, -1.92133033e+00, -1.89052965e+00, -1.86142459e+00,\n",
       "         -1.83381593e+00, -1.80753820e+00, -1.78245240e+00, -1.75844061e+00,\n",
       "         -1.73540186e+00, -1.71324904e+00, -1.69190643e+00, -1.67130780e+00,\n",
       "         -1.65139483e+00, -1.63211595e+00, -1.61342528e+00, -1.59528183e+00,\n",
       "         -1.57764883e+00, -1.56049314e+00, -1.54378481e+00, -1.52749667e+00,\n",
       "         -1.51160399e+00, -1.49608418e+00, -1.48091659e+00, -1.46608224e+00,\n",
       "         -1.45156367e+00, -1.43734479e+00, -1.42341071e+00, -1.40974764e+00,\n",
       "         -1.39634279e+00, -1.38318426e+00, -1.37026095e+00, -1.35756253e+00,\n",
       "         -1.34507932e+00, -1.33280226e+00, -1.32072287e+00, -1.30883317e+00,\n",
       "         -1.29712567e+00, -1.28559331e+00, -1.27422944e+00, -1.26302778e+00,\n",
       "         -1.25198239e+00, -1.24108768e+00, -1.23033831e+00, -1.21972926e+00,\n",
       "         -1.20925574e+00, -1.19891322e+00, -1.18869738e+00, -1.17860411e+00,\n",
       "         -1.16862950e+00, -1.15876983e+00, -1.14902154e+00, -1.13938123e+00,\n",
       "         -1.12984566e+00, -1.12041173e+00, -1.11107648e+00, -1.10183707e+00,\n",
       "         -1.09269077e+00, -1.08363498e+00, -1.07466719e+00, -1.06578501e+00,\n",
       "         -1.05698612e+00, -1.04826831e+00, -1.03962946e+00, -1.03106750e+00,\n",
       "         -1.02258046e+00, -1.01416645e+00, -1.00582364e+00, -9.97550247e-01,\n",
       "         -9.89344581e-01, -9.81204996e-01, -9.73129904e-01, -9.65117774e-01,\n",
       "         -9.57167125e-01, -9.49276525e-01, -9.41444591e-01, -9.33669982e-01,\n",
       "         -9.25951403e-01, -9.18287599e-01, -9.10677353e-01, -9.03119487e-01,\n",
       "         -8.95612861e-01, -8.88156365e-01, -8.80748927e-01, -8.73389502e-01,\n",
       "         -8.66077081e-01, -8.58810678e-01, -8.51589342e-01, -8.44412143e-01,\n",
       "         -8.37278180e-01, -8.30186576e-01, -8.23136480e-01, -8.16127061e-01,\n",
       "         -8.09157513e-01, -8.02227049e-01, -7.95334905e-01, -7.88480336e-01,\n",
       "         -7.81662614e-01, -7.74881033e-01, -7.68134903e-01, -7.61423551e-01,\n",
       "         -7.54746322e-01, -7.48102575e-01, -7.41491685e-01, -7.34913044e-01,\n",
       "         -7.28366057e-01, -7.21850142e-01, -7.15364731e-01, -7.08909270e-01,\n",
       "         -7.02483218e-01, -6.96086043e-01, -6.89717230e-01, -6.83376271e-01,\n",
       "         -6.77062670e-01, -6.70775943e-01, -6.64515617e-01, -6.58281226e-01,\n",
       "         -6.52072317e-01, -6.45888445e-01, -6.39729174e-01, -6.33594076e-01,\n",
       "         -6.27482735e-01, -6.21394740e-01, -6.15329690e-01, -6.09287191e-01,\n",
       "         -6.03266856e-01, -5.97268307e-01, -5.91291174e-01, -5.85335090e-01,\n",
       "         -5.79399700e-01, -5.73484651e-01, -5.67589599e-01, -5.61714207e-01,\n",
       "         -5.55858142e-01, -5.50021077e-01, -5.44202692e-01, -5.38402673e-01,\n",
       "         -5.32620709e-01, -5.26856497e-01, -5.21109737e-01, -5.15380136e-01,\n",
       "         -5.09667405e-01, -5.03971258e-01, -4.98291417e-01, -4.92627606e-01,\n",
       "         -4.86979553e-01, -4.81346993e-01, -4.75729663e-01, -4.70127305e-01,\n",
       "         -4.64539663e-01, -4.58966488e-01, -4.53407532e-01, -4.47862553e-01,\n",
       "         -4.42331309e-01, -4.36813566e-01, -4.31309089e-01, -4.25817651e-01,\n",
       "         -4.20339023e-01, -4.14872983e-01, -4.09419311e-01, -4.03977788e-01,\n",
       "         -3.98548202e-01, -3.93130339e-01, -3.87723992e-01, -3.82328953e-01,\n",
       "         -3.76945020e-01, -3.71571992e-01, -3.66209669e-01, -3.60857856e-01,\n",
       "         -3.55516359e-01, -3.50184986e-01, -3.44863547e-01, -3.39551857e-01,\n",
       "         -3.34249730e-01, -3.28956983e-01, -3.23673435e-01, -3.18398908e-01,\n",
       "         -3.13133223e-01, -3.07876207e-01, -3.02627686e-01, -2.97387487e-01,\n",
       "         -2.92155443e-01, -2.86931384e-01, -2.81715143e-01, -2.76506557e-01,\n",
       "         -2.71305462e-01, -2.66111695e-01, -2.60925097e-01, -2.55745509e-01,\n",
       "         -2.50572773e-01, -2.45406732e-01, -2.40247233e-01, -2.35094122e-01,\n",
       "         -2.29947246e-01, -2.24806454e-01, -2.19671596e-01, -2.14542524e-01,\n",
       "         -2.09419090e-01, -2.04301147e-01, -1.99188550e-01, -1.94081154e-01,\n",
       "         -1.88978816e-01, -1.83881393e-01, -1.78788743e-01, -1.73700727e-01,\n",
       "         -1.68617203e-01, -1.63538032e-01, -1.58463078e-01, -1.53392201e-01,\n",
       "         -1.48325265e-01, -1.43262135e-01, -1.38202675e-01, -1.33146749e-01,\n",
       "         -1.28094226e-01, -1.23044970e-01, -1.17998849e-01, -1.12955731e-01,\n",
       "         -1.07915484e-01, -1.02877978e-01, -9.78430801e-02, -9.28106619e-02,\n",
       "         -8.77805930e-02, -8.27527442e-02, -7.77269864e-02, -7.27031911e-02,\n",
       "         -6.76812301e-02, -6.26609755e-02, -5.76422995e-02, -5.26250751e-02,\n",
       "         -4.76091750e-02, -4.25944724e-02, -3.75808407e-02, -3.25681535e-02,\n",
       "         -2.75562846e-02, -2.25451077e-02, -1.75344969e-02, -1.25243263e-02,\n",
       "         -7.51447003e-03, -2.50480239e-03,  2.50480239e-03,  7.51447003e-03,\n",
       "          1.25243263e-02,  1.75344969e-02,  2.25451077e-02,  2.75562846e-02,\n",
       "          3.25681535e-02,  3.75808407e-02,  4.25944724e-02,  4.76091750e-02,\n",
       "          5.26250751e-02,  5.76422995e-02,  6.26609755e-02,  6.76812301e-02,\n",
       "          7.27031911e-02,  7.77269864e-02,  8.27527442e-02,  8.77805930e-02,\n",
       "          9.28106619e-02,  9.78430801e-02,  1.02877978e-01,  1.07915484e-01,\n",
       "          1.12955731e-01,  1.17998849e-01,  1.23044970e-01,  1.28094226e-01,\n",
       "          1.33146749e-01,  1.38202675e-01,  1.43262135e-01,  1.48325265e-01,\n",
       "          1.53392201e-01,  1.58463078e-01,  1.63538032e-01,  1.68617203e-01,\n",
       "          1.73700727e-01,  1.78788743e-01,  1.83881393e-01,  1.88978816e-01,\n",
       "          1.94081154e-01,  1.99188550e-01,  2.04301147e-01,  2.09419090e-01,\n",
       "          2.14542524e-01,  2.19671596e-01,  2.24806454e-01,  2.29947246e-01,\n",
       "          2.35094122e-01,  2.40247233e-01,  2.45406732e-01,  2.50572773e-01,\n",
       "          2.55745509e-01,  2.60925097e-01,  2.66111695e-01,  2.71305462e-01,\n",
       "          2.76506557e-01,  2.81715143e-01,  2.86931384e-01,  2.92155443e-01,\n",
       "          2.97387487e-01,  3.02627686e-01,  3.07876207e-01,  3.13133223e-01,\n",
       "          3.18398908e-01,  3.23673435e-01,  3.28956983e-01,  3.34249730e-01,\n",
       "          3.39551857e-01,  3.44863547e-01,  3.50184986e-01,  3.55516359e-01,\n",
       "          3.60857856e-01,  3.66209669e-01,  3.71571992e-01,  3.76945020e-01,\n",
       "          3.82328953e-01,  3.87723992e-01,  3.93130339e-01,  3.98548202e-01,\n",
       "          4.03977788e-01,  4.09419311e-01,  4.14872983e-01,  4.20339023e-01,\n",
       "          4.25817651e-01,  4.31309089e-01,  4.36813566e-01,  4.42331309e-01,\n",
       "          4.47862553e-01,  4.53407532e-01,  4.58966488e-01,  4.64539663e-01,\n",
       "          4.70127305e-01,  4.75729663e-01,  4.81346993e-01,  4.86979553e-01,\n",
       "          4.92627606e-01,  4.98291417e-01,  5.03971258e-01,  5.09667405e-01,\n",
       "          5.15380136e-01,  5.21109737e-01,  5.26856497e-01,  5.32620709e-01,\n",
       "          5.38402673e-01,  5.44202692e-01,  5.50021077e-01,  5.55858142e-01,\n",
       "          5.61714207e-01,  5.67589599e-01,  5.73484651e-01,  5.79399700e-01,\n",
       "          5.85335090e-01,  5.91291174e-01,  5.97268307e-01,  6.03266856e-01,\n",
       "          6.09287191e-01,  6.15329690e-01,  6.21394740e-01,  6.27482735e-01,\n",
       "          6.33594076e-01,  6.39729174e-01,  6.45888445e-01,  6.52072317e-01,\n",
       "          6.58281226e-01,  6.64515617e-01,  6.70775943e-01,  6.77062670e-01,\n",
       "          6.83376271e-01,  6.89717230e-01,  6.96086043e-01,  7.02483218e-01,\n",
       "          7.08909270e-01,  7.15364731e-01,  7.21850142e-01,  7.28366057e-01,\n",
       "          7.34913044e-01,  7.41491685e-01,  7.48102575e-01,  7.54746322e-01,\n",
       "          7.61423551e-01,  7.68134903e-01,  7.74881033e-01,  7.81662614e-01,\n",
       "          7.88480336e-01,  7.95334905e-01,  8.02227049e-01,  8.09157513e-01,\n",
       "          8.16127061e-01,  8.23136480e-01,  8.30186576e-01,  8.37278180e-01,\n",
       "          8.44412143e-01,  8.51589342e-01,  8.58810678e-01,  8.66077081e-01,\n",
       "          8.73389502e-01,  8.80748927e-01,  8.88156365e-01,  8.95612861e-01,\n",
       "          9.03119487e-01,  9.10677353e-01,  9.18287599e-01,  9.25951403e-01,\n",
       "          9.33669982e-01,  9.41444591e-01,  9.49276525e-01,  9.57167125e-01,\n",
       "          9.65117774e-01,  9.73129904e-01,  9.81204996e-01,  9.89344581e-01,\n",
       "          9.97550247e-01,  1.00582364e+00,  1.01416645e+00,  1.02258046e+00,\n",
       "          1.03106750e+00,  1.03962946e+00,  1.04826831e+00,  1.05698612e+00,\n",
       "          1.06578501e+00,  1.07466719e+00,  1.08363498e+00,  1.09269077e+00,\n",
       "          1.10183707e+00,  1.11107648e+00,  1.12041173e+00,  1.12984566e+00,\n",
       "          1.13938123e+00,  1.14902154e+00,  1.15876983e+00,  1.16862950e+00,\n",
       "          1.17860411e+00,  1.18869738e+00,  1.19891322e+00,  1.20925574e+00,\n",
       "          1.21972926e+00,  1.23033831e+00,  1.24108768e+00,  1.25198239e+00,\n",
       "          1.26302778e+00,  1.27422944e+00,  1.28559331e+00,  1.29712567e+00,\n",
       "          1.30883317e+00,  1.32072287e+00,  1.33280226e+00,  1.34507932e+00,\n",
       "          1.35756253e+00,  1.37026095e+00,  1.38318426e+00,  1.39634279e+00,\n",
       "          1.40974764e+00,  1.42341071e+00,  1.43734479e+00,  1.45156367e+00,\n",
       "          1.46608224e+00,  1.48091659e+00,  1.49608418e+00,  1.51160399e+00,\n",
       "          1.52749667e+00,  1.54378481e+00,  1.56049314e+00,  1.57764883e+00,\n",
       "          1.59528183e+00,  1.61342528e+00,  1.63211595e+00,  1.65139483e+00,\n",
       "          1.67130780e+00,  1.69190643e+00,  1.71324904e+00,  1.73540186e+00,\n",
       "          1.75844061e+00,  1.78245240e+00,  1.80753820e+00,  1.83381593e+00,\n",
       "          1.86142459e+00,  1.89052965e+00,  1.92133033e+00,  1.95406954e+00,\n",
       "          1.98904794e+00,  2.02664403e+00,  2.06734403e+00,  2.11178767e+00,\n",
       "          2.16084152e+00,  2.21572267e+00,  2.27822091e+00,  2.35113311e+00,\n",
       "          2.43921385e+00,  2.55162541e+00,  2.71015927e+00,  2.99209858e+00]),\n",
       "  array([-11., -11., -10., -10., -10., -10.,  -9.,  -9.,  -9.,  -9.,  -9.,\n",
       "          -9.,  -9.,  -9.,  -9.,  -9.,  -9.,  -9.,  -8.,  -8.,  -8.,  -8.,\n",
       "          -8.,  -8.,  -8.,  -8.,  -8.,  -7.,  -7.,  -7.,  -7.,  -7.,  -7.,\n",
       "          -7.,  -7.,  -7.,  -7.,  -7.,  -7.,  -7.,  -7.,  -7.,  -7.,  -7.,\n",
       "          -7.,  -7.,  -7.,  -7.,  -7.,  -7.,  -7.,  -7.,  -7.,  -6.,  -6.,\n",
       "          -6.,  -6.,  -6.,  -6.,  -6.,  -6.,  -6.,  -6.,  -6.,  -6.,  -6.,\n",
       "          -6.,  -6.,  -6.,  -6.,  -6.,  -6.,  -6.,  -6.,  -6.,  -6.,  -6.,\n",
       "          -6.,  -6.,  -6.,  -6.,  -6.,  -6.,  -6.,  -6.,  -6.,  -6.,  -6.,\n",
       "          -6.,  -6.,  -6.,  -6.,  -6.,  -6.,  -5.,  -5.,  -5.,  -5.,  -5.,\n",
       "          -5.,  -5.,  -5.,  -5.,  -5.,  -5.,  -5.,  -5.,  -5.,  -5.,  -5.,\n",
       "          -5.,  -5.,  -5.,  -5.,  -5.,  -5.,  -5.,  -5.,  -5.,  -5.,  -5.,\n",
       "          -5.,  -5.,  -5.,  -5.,  -5.,  -5.,  -5.,  -5.,  -5.,  -5.,  -5.,\n",
       "          -5.,  -5.,  -5.,  -5.,  -5.,  -5.,  -5.,  -5.,  -5.,  -5.,  -5.,\n",
       "          -5.,  -4.,  -4.,  -4.,  -4.,  -4.,  -4.,  -4.,  -4.,  -4.,  -4.,\n",
       "          -4.,  -4.,  -4.,  -4.,  -4.,  -4.,  -4.,  -4.,  -4.,  -4.,  -4.,\n",
       "          -4.,  -4.,  -4.,  -4.,  -4.,  -4.,  -4.,  -4.,  -4.,  -4.,  -4.,\n",
       "          -4.,  -4.,  -4.,  -4.,  -4.,  -4.,  -4.,  -4.,  -4.,  -4.,  -4.,\n",
       "          -4.,  -4.,  -4.,  -4.,  -3.,  -3.,  -3.,  -3.,  -3.,  -3.,  -3.,\n",
       "          -3.,  -3.,  -3.,  -3.,  -3.,  -3.,  -3.,  -3.,  -3.,  -3.,  -3.,\n",
       "          -3.,  -3.,  -3.,  -3.,  -3.,  -3.,  -3.,  -3.,  -3.,  -3.,  -3.,\n",
       "          -3.,  -3.,  -3.,  -3.,  -3.,  -3.,  -3.,  -3.,  -3.,  -3.,  -3.,\n",
       "          -3.,  -2.,  -2.,  -2.,  -2.,  -2.,  -2.,  -2.,  -2.,  -2.,  -2.,\n",
       "          -2.,  -2.,  -2.,  -2.,  -2.,  -2.,  -2.,  -2.,  -2.,  -2.,  -2.,\n",
       "          -2.,  -2.,  -2.,  -2.,  -2.,  -2.,  -2.,  -2.,  -2.,  -2.,  -2.,\n",
       "          -2.,  -2.,  -2.,  -2.,  -1.,  -1.,  -1.,  -1.,  -1.,  -1.,  -1.,\n",
       "          -1.,  -1.,  -1.,  -1.,  -1.,  -1.,  -1.,  -1.,  -1.,  -1.,  -1.,\n",
       "          -1.,  -1.,  -1.,  -1.,  -1.,  -1.,  -1.,  -1.,  -1.,  -1.,  -1.,\n",
       "          -1.,  -1.,  -1.,  -1.,  -1.,  -1.,  -1.,  -1.,  -1.,  -1.,  -1.,\n",
       "          -1.,  -1.,  -1.,   0.,   0.,   0.,   0.,   0.,   0.,   0.,   0.,\n",
       "           0.,   0.,   0.,   0.,   0.,   0.,   0.,   0.,   0.,   0.,   0.,\n",
       "           0.,   0.,   0.,   0.,   0.,   0.,   0.,   0.,   0.,   0.,   0.,\n",
       "           1.,   1.,   1.,   1.,   1.,   1.,   1.,   1.,   1.,   1.,   1.,\n",
       "           1.,   1.,   1.,   1.,   1.,   1.,   1.,   1.,   2.,   2.,   2.,\n",
       "           2.,   2.,   2.,   2.,   2.,   2.,   2.,   3.,   3.,   3.,   3.,\n",
       "           3.,   4.,   4.,   4.,   4.,   4.,   4.,   5.,   5.,   5.,   5.,\n",
       "           5.,   5.,   6.,   6.,   6.,   7.,   7.,   7.,   7.,   9.,   9.,\n",
       "           9.,  10.,  10.,  10.,  10.,  11.,  11.,  11.,  11.,  12.,  12.,\n",
       "          12.,  13.,  13.,  13.,  13.,  14.,  14.,  14.,  15.,  15.,  15.,\n",
       "          15.,  16.,  16.,  16.,  17.,  17.,  18.,  18.,  18.,  18.,  18.,\n",
       "          20.,  21.,  21.,  21.,  21.,  21.,  21.,  23.,  24.,  24.,  25.,\n",
       "          25.,  25.,  25.,  26.,  27.,  28.,  29.,  30.,  30.,  31.,  32.,\n",
       "          32.,  35.,  38.,  39.,  39.,  40.,  40.,  40.,  41.,  46.,  46.,\n",
       "          47.,  48.,  48.,  48.,  48.,  51.,  51.,  52.,  54.,  55.,  57.,\n",
       "          57.,  59.,  59.,  60.,  63.,  64.,  93.,  95., 105., 110., 112.,\n",
       "         113., 114., 118., 128., 135., 135., 136., 137., 138., 174., 176.,\n",
       "         201., 210., 254., 504., 800.])),\n",
       " (28.18080837450953, 10.352000000000002, 0.5396617157557388))"
      ]
     },
     "execution_count": 266,
     "metadata": {},
     "output_type": "execute_result"
    },
    {
     "data": {
      "image/png": "[encoded data removed]",
      "text/plain": [
       "<Figure size 432x288 with 1 Axes>"
      ]
     },
     "metadata": {},
     "output_type": "display_data"
    }
   ],
   "source": [
    "sp.stats.probplot(DL, plot=plt)"
   ]
  },
  {
   "cell_type": "code",
   "execution_count": 267,
   "metadata": {},
   "outputs": [
    {
     "data": {
      "text/plain": [
       "((array([-2.99209858e+00, -2.71015927e+00, -2.55162541e+00, -2.43921385e+00,\n",
       "         -2.35113311e+00, -2.27822091e+00, -2.21572267e+00, -2.16084152e+00,\n",
       "         -2.11178767e+00, -2.06734403e+00, -2.02664403e+00, -1.98904794e+00,\n",
       "         -1.95406954e+00, -1.92133033e+00, -1.89052965e+00, -1.86142459e+00,\n",
       "         -1.83381593e+00, -1.80753820e+00, -1.78245240e+00, -1.75844061e+00,\n",
       "         -1.73540186e+00, -1.71324904e+00, -1.69190643e+00, -1.67130780e+00,\n",
       "         -1.65139483e+00, -1.63211595e+00, -1.61342528e+00, -1.59528183e+00,\n",
       "         -1.57764883e+00, -1.56049314e+00, -1.54378481e+00, -1.52749667e+00,\n",
       "         -1.51160399e+00, -1.49608418e+00, -1.48091659e+00, -1.46608224e+00,\n",
       "         -1.45156367e+00, -1.43734479e+00, -1.42341071e+00, -1.40974764e+00,\n",
       "         -1.39634279e+00, -1.38318426e+00, -1.37026095e+00, -1.35756253e+00,\n",
       "         -1.34507932e+00, -1.33280226e+00, -1.32072287e+00, -1.30883317e+00,\n",
       "         -1.29712567e+00, -1.28559331e+00, -1.27422944e+00, -1.26302778e+00,\n",
       "         -1.25198239e+00, -1.24108768e+00, -1.23033831e+00, -1.21972926e+00,\n",
       "         -1.20925574e+00, -1.19891322e+00, -1.18869738e+00, -1.17860411e+00,\n",
       "         -1.16862950e+00, -1.15876983e+00, -1.14902154e+00, -1.13938123e+00,\n",
       "         -1.12984566e+00, -1.12041173e+00, -1.11107648e+00, -1.10183707e+00,\n",
       "         -1.09269077e+00, -1.08363498e+00, -1.07466719e+00, -1.06578501e+00,\n",
       "         -1.05698612e+00, -1.04826831e+00, -1.03962946e+00, -1.03106750e+00,\n",
       "         -1.02258046e+00, -1.01416645e+00, -1.00582364e+00, -9.97550247e-01,\n",
       "         -9.89344581e-01, -9.81204996e-01, -9.73129904e-01, -9.65117774e-01,\n",
       "         -9.57167125e-01, -9.49276525e-01, -9.41444591e-01, -9.33669982e-01,\n",
       "         -9.25951403e-01, -9.18287599e-01, -9.10677353e-01, -9.03119487e-01,\n",
       "         -8.95612861e-01, -8.88156365e-01, -8.80748927e-01, -8.73389502e-01,\n",
       "         -8.66077081e-01, -8.58810678e-01, -8.51589342e-01, -8.44412143e-01,\n",
       "         -8.37278180e-01, -8.30186576e-01, -8.23136480e-01, -8.16127061e-01,\n",
       "         -8.09157513e-01, -8.02227049e-01, -7.95334905e-01, -7.88480336e-01,\n",
       "         -7.81662614e-01, -7.74881033e-01, -7.68134903e-01, -7.61423551e-01,\n",
       "         -7.54746322e-01, -7.48102575e-01, -7.41491685e-01, -7.34913044e-01,\n",
       "         -7.28366057e-01, -7.21850142e-01, -7.15364731e-01, -7.08909270e-01,\n",
       "         -7.02483218e-01, -6.96086043e-01, -6.89717230e-01, -6.83376271e-01,\n",
       "         -6.77062670e-01, -6.70775943e-01, -6.64515617e-01, -6.58281226e-01,\n",
       "         -6.52072317e-01, -6.45888445e-01, -6.39729174e-01, -6.33594076e-01,\n",
       "         -6.27482735e-01, -6.21394740e-01, -6.15329690e-01, -6.09287191e-01,\n",
       "         -6.03266856e-01, -5.97268307e-01, -5.91291174e-01, -5.85335090e-01,\n",
       "         -5.79399700e-01, -5.73484651e-01, -5.67589599e-01, -5.61714207e-01,\n",
       "         -5.55858142e-01, -5.50021077e-01, -5.44202692e-01, -5.38402673e-01,\n",
       "         -5.32620709e-01, -5.26856497e-01, -5.21109737e-01, -5.15380136e-01,\n",
       "         -5.09667405e-01, -5.03971258e-01, -4.98291417e-01, -4.92627606e-01,\n",
       "         -4.86979553e-01, -4.81346993e-01, -4.75729663e-01, -4.70127305e-01,\n",
       "         -4.64539663e-01, -4.58966488e-01, -4.53407532e-01, -4.47862553e-01,\n",
       "         -4.42331309e-01, -4.36813566e-01, -4.31309089e-01, -4.25817651e-01,\n",
       "         -4.20339023e-01, -4.14872983e-01, -4.09419311e-01, -4.03977788e-01,\n",
       "         -3.98548202e-01, -3.93130339e-01, -3.87723992e-01, -3.82328953e-01,\n",
       "         -3.76945020e-01, -3.71571992e-01, -3.66209669e-01, -3.60857856e-01,\n",
       "         -3.55516359e-01, -3.50184986e-01, -3.44863547e-01, -3.39551857e-01,\n",
       "         -3.34249730e-01, -3.28956983e-01, -3.23673435e-01, -3.18398908e-01,\n",
       "         -3.13133223e-01, -3.07876207e-01, -3.02627686e-01, -2.97387487e-01,\n",
       "         -2.92155443e-01, -2.86931384e-01, -2.81715143e-01, -2.76506557e-01,\n",
       "         -2.71305462e-01, -2.66111695e-01, -2.60925097e-01, -2.55745509e-01,\n",
       "         -2.50572773e-01, -2.45406732e-01, -2.40247233e-01, -2.35094122e-01,\n",
       "         -2.29947246e-01, -2.24806454e-01, -2.19671596e-01, -2.14542524e-01,\n",
       "         -2.09419090e-01, -2.04301147e-01, -1.99188550e-01, -1.94081154e-01,\n",
       "         -1.88978816e-01, -1.83881393e-01, -1.78788743e-01, -1.73700727e-01,\n",
       "         -1.68617203e-01, -1.63538032e-01, -1.58463078e-01, -1.53392201e-01,\n",
       "         -1.48325265e-01, -1.43262135e-01, -1.38202675e-01, -1.33146749e-01,\n",
       "         -1.28094226e-01, -1.23044970e-01, -1.17998849e-01, -1.12955731e-01,\n",
       "         -1.07915484e-01, -1.02877978e-01, -9.78430801e-02, -9.28106619e-02,\n",
       "         -8.77805930e-02, -8.27527442e-02, -7.77269864e-02, -7.27031911e-02,\n",
       "         -6.76812301e-02, -6.26609755e-02, -5.76422995e-02, -5.26250751e-02,\n",
       "         -4.76091750e-02, -4.25944724e-02, -3.75808407e-02, -3.25681535e-02,\n",
       "         -2.75562846e-02, -2.25451077e-02, -1.75344969e-02, -1.25243263e-02,\n",
       "         -7.51447003e-03, -2.50480239e-03,  2.50480239e-03,  7.51447003e-03,\n",
       "          1.25243263e-02,  1.75344969e-02,  2.25451077e-02,  2.75562846e-02,\n",
       "          3.25681535e-02,  3.75808407e-02,  4.25944724e-02,  4.76091750e-02,\n",
       "          5.26250751e-02,  5.76422995e-02,  6.26609755e-02,  6.76812301e-02,\n",
       "          7.27031911e-02,  7.77269864e-02,  8.27527442e-02,  8.77805930e-02,\n",
       "          9.28106619e-02,  9.78430801e-02,  1.02877978e-01,  1.07915484e-01,\n",
       "          1.12955731e-01,  1.17998849e-01,  1.23044970e-01,  1.28094226e-01,\n",
       "          1.33146749e-01,  1.38202675e-01,  1.43262135e-01,  1.48325265e-01,\n",
       "          1.53392201e-01,  1.58463078e-01,  1.63538032e-01,  1.68617203e-01,\n",
       "          1.73700727e-01,  1.78788743e-01,  1.83881393e-01,  1.88978816e-01,\n",
       "          1.94081154e-01,  1.99188550e-01,  2.04301147e-01,  2.09419090e-01,\n",
       "          2.14542524e-01,  2.19671596e-01,  2.24806454e-01,  2.29947246e-01,\n",
       "          2.35094122e-01,  2.40247233e-01,  2.45406732e-01,  2.50572773e-01,\n",
       "          2.55745509e-01,  2.60925097e-01,  2.66111695e-01,  2.71305462e-01,\n",
       "          2.76506557e-01,  2.81715143e-01,  2.86931384e-01,  2.92155443e-01,\n",
       "          2.97387487e-01,  3.02627686e-01,  3.07876207e-01,  3.13133223e-01,\n",
       "          3.18398908e-01,  3.23673435e-01,  3.28956983e-01,  3.34249730e-01,\n",
       "          3.39551857e-01,  3.44863547e-01,  3.50184986e-01,  3.55516359e-01,\n",
       "          3.60857856e-01,  3.66209669e-01,  3.71571992e-01,  3.76945020e-01,\n",
       "          3.82328953e-01,  3.87723992e-01,  3.93130339e-01,  3.98548202e-01,\n",
       "          4.03977788e-01,  4.09419311e-01,  4.14872983e-01,  4.20339023e-01,\n",
       "          4.25817651e-01,  4.31309089e-01,  4.36813566e-01,  4.42331309e-01,\n",
       "          4.47862553e-01,  4.53407532e-01,  4.58966488e-01,  4.64539663e-01,\n",
       "          4.70127305e-01,  4.75729663e-01,  4.81346993e-01,  4.86979553e-01,\n",
       "          4.92627606e-01,  4.98291417e-01,  5.03971258e-01,  5.09667405e-01,\n",
       "          5.15380136e-01,  5.21109737e-01,  5.26856497e-01,  5.32620709e-01,\n",
       "          5.38402673e-01,  5.44202692e-01,  5.50021077e-01,  5.55858142e-01,\n",
       "          5.61714207e-01,  5.67589599e-01,  5.73484651e-01,  5.79399700e-01,\n",
       "          5.85335090e-01,  5.91291174e-01,  5.97268307e-01,  6.03266856e-01,\n",
       "          6.09287191e-01,  6.15329690e-01,  6.21394740e-01,  6.27482735e-01,\n",
       "          6.33594076e-01,  6.39729174e-01,  6.45888445e-01,  6.52072317e-01,\n",
       "          6.58281226e-01,  6.64515617e-01,  6.70775943e-01,  6.77062670e-01,\n",
       "          6.83376271e-01,  6.89717230e-01,  6.96086043e-01,  7.02483218e-01,\n",
       "          7.08909270e-01,  7.15364731e-01,  7.21850142e-01,  7.28366057e-01,\n",
       "          7.34913044e-01,  7.41491685e-01,  7.48102575e-01,  7.54746322e-01,\n",
       "          7.61423551e-01,  7.68134903e-01,  7.74881033e-01,  7.81662614e-01,\n",
       "          7.88480336e-01,  7.95334905e-01,  8.02227049e-01,  8.09157513e-01,\n",
       "          8.16127061e-01,  8.23136480e-01,  8.30186576e-01,  8.37278180e-01,\n",
       "          8.44412143e-01,  8.51589342e-01,  8.58810678e-01,  8.66077081e-01,\n",
       "          8.73389502e-01,  8.80748927e-01,  8.88156365e-01,  8.95612861e-01,\n",
       "          9.03119487e-01,  9.10677353e-01,  9.18287599e-01,  9.25951403e-01,\n",
       "          9.33669982e-01,  9.41444591e-01,  9.49276525e-01,  9.57167125e-01,\n",
       "          9.65117774e-01,  9.73129904e-01,  9.81204996e-01,  9.89344581e-01,\n",
       "          9.97550247e-01,  1.00582364e+00,  1.01416645e+00,  1.02258046e+00,\n",
       "          1.03106750e+00,  1.03962946e+00,  1.04826831e+00,  1.05698612e+00,\n",
       "          1.06578501e+00,  1.07466719e+00,  1.08363498e+00,  1.09269077e+00,\n",
       "          1.10183707e+00,  1.11107648e+00,  1.12041173e+00,  1.12984566e+00,\n",
       "          1.13938123e+00,  1.14902154e+00,  1.15876983e+00,  1.16862950e+00,\n",
       "          1.17860411e+00,  1.18869738e+00,  1.19891322e+00,  1.20925574e+00,\n",
       "          1.21972926e+00,  1.23033831e+00,  1.24108768e+00,  1.25198239e+00,\n",
       "          1.26302778e+00,  1.27422944e+00,  1.28559331e+00,  1.29712567e+00,\n",
       "          1.30883317e+00,  1.32072287e+00,  1.33280226e+00,  1.34507932e+00,\n",
       "          1.35756253e+00,  1.37026095e+00,  1.38318426e+00,  1.39634279e+00,\n",
       "          1.40974764e+00,  1.42341071e+00,  1.43734479e+00,  1.45156367e+00,\n",
       "          1.46608224e+00,  1.48091659e+00,  1.49608418e+00,  1.51160399e+00,\n",
       "          1.52749667e+00,  1.54378481e+00,  1.56049314e+00,  1.57764883e+00,\n",
       "          1.59528183e+00,  1.61342528e+00,  1.63211595e+00,  1.65139483e+00,\n",
       "          1.67130780e+00,  1.69190643e+00,  1.71324904e+00,  1.73540186e+00,\n",
       "          1.75844061e+00,  1.78245240e+00,  1.80753820e+00,  1.83381593e+00,\n",
       "          1.86142459e+00,  1.89052965e+00,  1.92133033e+00,  1.95406954e+00,\n",
       "          1.98904794e+00,  2.02664403e+00,  2.06734403e+00,  2.11178767e+00,\n",
       "          2.16084152e+00,  2.21572267e+00,  2.27822091e+00,  2.35113311e+00,\n",
       "          2.43921385e+00,  2.55162541e+00,  2.71015927e+00,  2.99209858e+00]),\n",
       "  array([-15., -13., -12., -12., -11., -10., -10., -10.,  -9.,  -9.,  -9.,\n",
       "          -9.,  -9.,  -8.,  -8.,  -8.,  -8.,  -8.,  -7.,  -7.,  -7.,  -7.,\n",
       "          -7.,  -7.,  -7.,  -7.,  -7.,  -7.,  -7.,  -6.,  -6.,  -6.,  -6.,\n",
       "          -6.,  -6.,  -6.,  -6.,  -6.,  -6.,  -6.,  -6.,  -6.,  -6.,  -6.,\n",
       "          -6.,  -5.,  -5.,  -5.,  -5.,  -5.,  -5.,  -5.,  -5.,  -5.,  -5.,\n",
       "          -5.,  -5.,  -5.,  -5.,  -5.,  -5.,  -5.,  -5.,  -5.,  -5.,  -5.,\n",
       "          -5.,  -5.,  -5.,  -5.,  -5.,  -5.,  -4.,  -4.,  -4.,  -4.,  -4.,\n",
       "          -4.,  -4.,  -4.,  -4.,  -4.,  -4.,  -4.,  -4.,  -4.,  -4.,  -4.,\n",
       "          -4.,  -4.,  -4.,  -4.,  -4.,  -4.,  -4.,  -4.,  -4.,  -4.,  -4.,\n",
       "          -4.,  -4.,  -4.,  -3.,  -3.,  -3.,  -3.,  -3.,  -3.,  -3.,  -3.,\n",
       "          -3.,  -3.,  -3.,  -3.,  -3.,  -3.,  -3.,  -3.,  -3.,  -3.,  -3.,\n",
       "          -3.,  -3.,  -3.,  -3.,  -3.,  -3.,  -3.,  -3.,  -3.,  -3.,  -3.,\n",
       "          -3.,  -3.,  -3.,  -3.,  -3.,  -3.,  -3.,  -3.,  -3.,  -3.,  -3.,\n",
       "          -3.,  -3.,  -3.,  -3.,  -3.,  -3.,  -3.,  -2.,  -2.,  -2.,  -2.,\n",
       "          -2.,  -2.,  -2.,  -2.,  -2.,  -2.,  -2.,  -2.,  -2.,  -2.,  -2.,\n",
       "          -2.,  -2.,  -2.,  -2.,  -2.,  -2.,  -2.,  -2.,  -2.,  -2.,  -2.,\n",
       "          -2.,  -2.,  -2.,  -2.,  -2.,  -2.,  -2.,  -2.,  -2.,  -2.,  -2.,\n",
       "          -2.,  -1.,  -1.,  -1.,  -1.,  -1.,  -1.,  -1.,  -1.,  -1.,  -1.,\n",
       "          -1.,  -1.,  -1.,  -1.,  -1.,  -1.,  -1.,  -1.,  -1.,  -1.,  -1.,\n",
       "          -1.,  -1.,  -1.,  -1.,  -1.,  -1.,  -1.,  -1.,  -1.,  -1.,  -1.,\n",
       "          -1.,  -1.,  -1.,   0.,   0.,   0.,   0.,   0.,   0.,   0.,   0.,\n",
       "           0.,   0.,   0.,   0.,   0.,   0.,   0.,   0.,   0.,   0.,   0.,\n",
       "           0.,   0.,   0.,   0.,   0.,   0.,   0.,   0.,   0.,   0.,   0.,\n",
       "           0.,   0.,   0.,   0.,   1.,   1.,   1.,   1.,   1.,   1.,   1.,\n",
       "           1.,   1.,   1.,   1.,   1.,   1.,   1.,   1.,   1.,   2.,   2.,\n",
       "           2.,   2.,   2.,   2.,   2.,   2.,   2.,   2.,   2.,   2.,   2.,\n",
       "           2.,   2.,   3.,   3.,   3.,   3.,   3.,   3.,   3.,   3.,   3.,\n",
       "           3.,   3.,   3.,   3.,   3.,   3.,   3.,   3.,   4.,   4.,   4.,\n",
       "           4.,   4.,   4.,   4.,   4.,   4.,   4.,   4.,   4.,   4.,   4.,\n",
       "           4.,   4.,   5.,   5.,   5.,   5.,   5.,   5.,   5.,   5.,   6.,\n",
       "           6.,   6.,   6.,   6.,   6.,   6.,   6.,   6.,   6.,   6.,   7.,\n",
       "           7.,   7.,   7.,   7.,   7.,   7.,   7.,   7.,   7.,   7.,   8.,\n",
       "           8.,   8.,   8.,   8.,   8.,   8.,   8.,   8.,   8.,   8.,   9.,\n",
       "           9.,   9.,   9.,   9.,   9.,  10.,  10.,  10.,  10.,  10.,  10.,\n",
       "          10.,  11.,  11.,  11.,  11.,  12.,  12.,  12.,  12.,  13.,  13.,\n",
       "          13.,  14.,  15.,  16.,  16.,  16.,  16.,  17.,  17.,  18.,  19.,\n",
       "          19.,  19.,  19.,  20.,  20.,  20.,  20.,  20.,  21.,  21.,  23.,\n",
       "          23.,  24.,  24.,  24.,  24.,  24.,  24.,  25.,  26.,  27.,  27.,\n",
       "          27.,  28.,  28.,  28.,  28.,  29.,  29.,  29.,  31.,  31.,  32.,\n",
       "          32.,  32.,  34.,  34.,  35.,  35.,  36.,  37.,  39.,  40.,  41.,\n",
       "          41.,  44.,  44.,  45.,  45.,  45.,  47.,  47.,  48.,  50.,  51.,\n",
       "          51.,  52.,  53.,  54.,  55.,  56.,  57.,  59.,  59.,  61.,  63.,\n",
       "          66.,  66.,  67.,  67.,  71.,  73.,  73.,  74.,  75.,  76.,  76.,\n",
       "          76.,  78.,  79.,  80.,  80.,  82.,  85.,  89.,  95.,  99., 100.,\n",
       "         100., 103., 105., 109., 113., 121., 135., 145., 146., 178., 196.,\n",
       "         204., 219., 243., 263., 282.])),\n",
       " (26.756016533253266, 13.430000000000001, 0.7370255955109511))"
      ]
     },
     "execution_count": 267,
     "metadata": {},
     "output_type": "execute_result"
    },
    {
     "data": {
      "image/png": "[encoded data removed]",
      "text/plain": [
       "<Figure size 432x288 with 1 Axes>"
      ]
     },
     "metadata": {},
     "output_type": "display_data"
    }
   ],
   "source": [
    "sp.stats.probplot(UA, plot=plt)"
   ]
  },
  {
   "cell_type": "code",
   "execution_count": 268,
   "metadata": {},
   "outputs": [
    {
     "data": {
      "text/plain": [
       "((array([-2.99209858e+00, -2.71015927e+00, -2.55162541e+00, -2.43921385e+00,\n",
       "         -2.35113311e+00, -2.27822091e+00, -2.21572267e+00, -2.16084152e+00,\n",
       "         -2.11178767e+00, -2.06734403e+00, -2.02664403e+00, -1.98904794e+00,\n",
       "         -1.95406954e+00, -1.92133033e+00, -1.89052965e+00, -1.86142459e+00,\n",
       "         -1.83381593e+00, -1.80753820e+00, -1.78245240e+00, -1.75844061e+00,\n",
       "         -1.73540186e+00, -1.71324904e+00, -1.69190643e+00, -1.67130780e+00,\n",
       "         -1.65139483e+00, -1.63211595e+00, -1.61342528e+00, -1.59528183e+00,\n",
       "         -1.57764883e+00, -1.56049314e+00, -1.54378481e+00, -1.52749667e+00,\n",
       "         -1.51160399e+00, -1.49608418e+00, -1.48091659e+00, -1.46608224e+00,\n",
       "         -1.45156367e+00, -1.43734479e+00, -1.42341071e+00, -1.40974764e+00,\n",
       "         -1.39634279e+00, -1.38318426e+00, -1.37026095e+00, -1.35756253e+00,\n",
       "         -1.34507932e+00, -1.33280226e+00, -1.32072287e+00, -1.30883317e+00,\n",
       "         -1.29712567e+00, -1.28559331e+00, -1.27422944e+00, -1.26302778e+00,\n",
       "         -1.25198239e+00, -1.24108768e+00, -1.23033831e+00, -1.21972926e+00,\n",
       "         -1.20925574e+00, -1.19891322e+00, -1.18869738e+00, -1.17860411e+00,\n",
       "         -1.16862950e+00, -1.15876983e+00, -1.14902154e+00, -1.13938123e+00,\n",
       "         -1.12984566e+00, -1.12041173e+00, -1.11107648e+00, -1.10183707e+00,\n",
       "         -1.09269077e+00, -1.08363498e+00, -1.07466719e+00, -1.06578501e+00,\n",
       "         -1.05698612e+00, -1.04826831e+00, -1.03962946e+00, -1.03106750e+00,\n",
       "         -1.02258046e+00, -1.01416645e+00, -1.00582364e+00, -9.97550247e-01,\n",
       "         -9.89344581e-01, -9.81204996e-01, -9.73129904e-01, -9.65117774e-01,\n",
       "         -9.57167125e-01, -9.49276525e-01, -9.41444591e-01, -9.33669982e-01,\n",
       "         -9.25951403e-01, -9.18287599e-01, -9.10677353e-01, -9.03119487e-01,\n",
       "         -8.95612861e-01, -8.88156365e-01, -8.80748927e-01, -8.73389502e-01,\n",
       "         -8.66077081e-01, -8.58810678e-01, -8.51589342e-01, -8.44412143e-01,\n",
       "         -8.37278180e-01, -8.30186576e-01, -8.23136480e-01, -8.16127061e-01,\n",
       "         -8.09157513e-01, -8.02227049e-01, -7.95334905e-01, -7.88480336e-01,\n",
       "         -7.81662614e-01, -7.74881033e-01, -7.68134903e-01, -7.61423551e-01,\n",
       "         -7.54746322e-01, -7.48102575e-01, -7.41491685e-01, -7.34913044e-01,\n",
       "         -7.28366057e-01, -7.21850142e-01, -7.15364731e-01, -7.08909270e-01,\n",
       "         -7.02483218e-01, -6.96086043e-01, -6.89717230e-01, -6.83376271e-01,\n",
       "         -6.77062670e-01, -6.70775943e-01, -6.64515617e-01, -6.58281226e-01,\n",
       "         -6.52072317e-01, -6.45888445e-01, -6.39729174e-01, -6.33594076e-01,\n",
       "         -6.27482735e-01, -6.21394740e-01, -6.15329690e-01, -6.09287191e-01,\n",
       "         -6.03266856e-01, -5.97268307e-01, -5.91291174e-01, -5.85335090e-01,\n",
       "         -5.79399700e-01, -5.73484651e-01, -5.67589599e-01, -5.61714207e-01,\n",
       "         -5.55858142e-01, -5.50021077e-01, -5.44202692e-01, -5.38402673e-01,\n",
       "         -5.32620709e-01, -5.26856497e-01, -5.21109737e-01, -5.15380136e-01,\n",
       "         -5.09667405e-01, -5.03971258e-01, -4.98291417e-01, -4.92627606e-01,\n",
       "         -4.86979553e-01, -4.81346993e-01, -4.75729663e-01, -4.70127305e-01,\n",
       "         -4.64539663e-01, -4.58966488e-01, -4.53407532e-01, -4.47862553e-01,\n",
       "         -4.42331309e-01, -4.36813566e-01, -4.31309089e-01, -4.25817651e-01,\n",
       "         -4.20339023e-01, -4.14872983e-01, -4.09419311e-01, -4.03977788e-01,\n",
       "         -3.98548202e-01, -3.93130339e-01, -3.87723992e-01, -3.82328953e-01,\n",
       "         -3.76945020e-01, -3.71571992e-01, -3.66209669e-01, -3.60857856e-01,\n",
       "         -3.55516359e-01, -3.50184986e-01, -3.44863547e-01, -3.39551857e-01,\n",
       "         -3.34249730e-01, -3.28956983e-01, -3.23673435e-01, -3.18398908e-01,\n",
       "         -3.13133223e-01, -3.07876207e-01, -3.02627686e-01, -2.97387487e-01,\n",
       "         -2.92155443e-01, -2.86931384e-01, -2.81715143e-01, -2.76506557e-01,\n",
       "         -2.71305462e-01, -2.66111695e-01, -2.60925097e-01, -2.55745509e-01,\n",
       "         -2.50572773e-01, -2.45406732e-01, -2.40247233e-01, -2.35094122e-01,\n",
       "         -2.29947246e-01, -2.24806454e-01, -2.19671596e-01, -2.14542524e-01,\n",
       "         -2.09419090e-01, -2.04301147e-01, -1.99188550e-01, -1.94081154e-01,\n",
       "         -1.88978816e-01, -1.83881393e-01, -1.78788743e-01, -1.73700727e-01,\n",
       "         -1.68617203e-01, -1.63538032e-01, -1.58463078e-01, -1.53392201e-01,\n",
       "         -1.48325265e-01, -1.43262135e-01, -1.38202675e-01, -1.33146749e-01,\n",
       "         -1.28094226e-01, -1.23044970e-01, -1.17998849e-01, -1.12955731e-01,\n",
       "         -1.07915484e-01, -1.02877978e-01, -9.78430801e-02, -9.28106619e-02,\n",
       "         -8.77805930e-02, -8.27527442e-02, -7.77269864e-02, -7.27031911e-02,\n",
       "         -6.76812301e-02, -6.26609755e-02, -5.76422995e-02, -5.26250751e-02,\n",
       "         -4.76091750e-02, -4.25944724e-02, -3.75808407e-02, -3.25681535e-02,\n",
       "         -2.75562846e-02, -2.25451077e-02, -1.75344969e-02, -1.25243263e-02,\n",
       "         -7.51447003e-03, -2.50480239e-03,  2.50480239e-03,  7.51447003e-03,\n",
       "          1.25243263e-02,  1.75344969e-02,  2.25451077e-02,  2.75562846e-02,\n",
       "          3.25681535e-02,  3.75808407e-02,  4.25944724e-02,  4.76091750e-02,\n",
       "          5.26250751e-02,  5.76422995e-02,  6.26609755e-02,  6.76812301e-02,\n",
       "          7.27031911e-02,  7.77269864e-02,  8.27527442e-02,  8.77805930e-02,\n",
       "          9.28106619e-02,  9.78430801e-02,  1.02877978e-01,  1.07915484e-01,\n",
       "          1.12955731e-01,  1.17998849e-01,  1.23044970e-01,  1.28094226e-01,\n",
       "          1.33146749e-01,  1.38202675e-01,  1.43262135e-01,  1.48325265e-01,\n",
       "          1.53392201e-01,  1.58463078e-01,  1.63538032e-01,  1.68617203e-01,\n",
       "          1.73700727e-01,  1.78788743e-01,  1.83881393e-01,  1.88978816e-01,\n",
       "          1.94081154e-01,  1.99188550e-01,  2.04301147e-01,  2.09419090e-01,\n",
       "          2.14542524e-01,  2.19671596e-01,  2.24806454e-01,  2.29947246e-01,\n",
       "          2.35094122e-01,  2.40247233e-01,  2.45406732e-01,  2.50572773e-01,\n",
       "          2.55745509e-01,  2.60925097e-01,  2.66111695e-01,  2.71305462e-01,\n",
       "          2.76506557e-01,  2.81715143e-01,  2.86931384e-01,  2.92155443e-01,\n",
       "          2.97387487e-01,  3.02627686e-01,  3.07876207e-01,  3.13133223e-01,\n",
       "          3.18398908e-01,  3.23673435e-01,  3.28956983e-01,  3.34249730e-01,\n",
       "          3.39551857e-01,  3.44863547e-01,  3.50184986e-01,  3.55516359e-01,\n",
       "          3.60857856e-01,  3.66209669e-01,  3.71571992e-01,  3.76945020e-01,\n",
       "          3.82328953e-01,  3.87723992e-01,  3.93130339e-01,  3.98548202e-01,\n",
       "          4.03977788e-01,  4.09419311e-01,  4.14872983e-01,  4.20339023e-01,\n",
       "          4.25817651e-01,  4.31309089e-01,  4.36813566e-01,  4.42331309e-01,\n",
       "          4.47862553e-01,  4.53407532e-01,  4.58966488e-01,  4.64539663e-01,\n",
       "          4.70127305e-01,  4.75729663e-01,  4.81346993e-01,  4.86979553e-01,\n",
       "          4.92627606e-01,  4.98291417e-01,  5.03971258e-01,  5.09667405e-01,\n",
       "          5.15380136e-01,  5.21109737e-01,  5.26856497e-01,  5.32620709e-01,\n",
       "          5.38402673e-01,  5.44202692e-01,  5.50021077e-01,  5.55858142e-01,\n",
       "          5.61714207e-01,  5.67589599e-01,  5.73484651e-01,  5.79399700e-01,\n",
       "          5.85335090e-01,  5.91291174e-01,  5.97268307e-01,  6.03266856e-01,\n",
       "          6.09287191e-01,  6.15329690e-01,  6.21394740e-01,  6.27482735e-01,\n",
       "          6.33594076e-01,  6.39729174e-01,  6.45888445e-01,  6.52072317e-01,\n",
       "          6.58281226e-01,  6.64515617e-01,  6.70775943e-01,  6.77062670e-01,\n",
       "          6.83376271e-01,  6.89717230e-01,  6.96086043e-01,  7.02483218e-01,\n",
       "          7.08909270e-01,  7.15364731e-01,  7.21850142e-01,  7.28366057e-01,\n",
       "          7.34913044e-01,  7.41491685e-01,  7.48102575e-01,  7.54746322e-01,\n",
       "          7.61423551e-01,  7.68134903e-01,  7.74881033e-01,  7.81662614e-01,\n",
       "          7.88480336e-01,  7.95334905e-01,  8.02227049e-01,  8.09157513e-01,\n",
       "          8.16127061e-01,  8.23136480e-01,  8.30186576e-01,  8.37278180e-01,\n",
       "          8.44412143e-01,  8.51589342e-01,  8.58810678e-01,  8.66077081e-01,\n",
       "          8.73389502e-01,  8.80748927e-01,  8.88156365e-01,  8.95612861e-01,\n",
       "          9.03119487e-01,  9.10677353e-01,  9.18287599e-01,  9.25951403e-01,\n",
       "          9.33669982e-01,  9.41444591e-01,  9.49276525e-01,  9.57167125e-01,\n",
       "          9.65117774e-01,  9.73129904e-01,  9.81204996e-01,  9.89344581e-01,\n",
       "          9.97550247e-01,  1.00582364e+00,  1.01416645e+00,  1.02258046e+00,\n",
       "          1.03106750e+00,  1.03962946e+00,  1.04826831e+00,  1.05698612e+00,\n",
       "          1.06578501e+00,  1.07466719e+00,  1.08363498e+00,  1.09269077e+00,\n",
       "          1.10183707e+00,  1.11107648e+00,  1.12041173e+00,  1.12984566e+00,\n",
       "          1.13938123e+00,  1.14902154e+00,  1.15876983e+00,  1.16862950e+00,\n",
       "          1.17860411e+00,  1.18869738e+00,  1.19891322e+00,  1.20925574e+00,\n",
       "          1.21972926e+00,  1.23033831e+00,  1.24108768e+00,  1.25198239e+00,\n",
       "          1.26302778e+00,  1.27422944e+00,  1.28559331e+00,  1.29712567e+00,\n",
       "          1.30883317e+00,  1.32072287e+00,  1.33280226e+00,  1.34507932e+00,\n",
       "          1.35756253e+00,  1.37026095e+00,  1.38318426e+00,  1.39634279e+00,\n",
       "          1.40974764e+00,  1.42341071e+00,  1.43734479e+00,  1.45156367e+00,\n",
       "          1.46608224e+00,  1.48091659e+00,  1.49608418e+00,  1.51160399e+00,\n",
       "          1.52749667e+00,  1.54378481e+00,  1.56049314e+00,  1.57764883e+00,\n",
       "          1.59528183e+00,  1.61342528e+00,  1.63211595e+00,  1.65139483e+00,\n",
       "          1.67130780e+00,  1.69190643e+00,  1.71324904e+00,  1.73540186e+00,\n",
       "          1.75844061e+00,  1.78245240e+00,  1.80753820e+00,  1.83381593e+00,\n",
       "          1.86142459e+00,  1.89052965e+00,  1.92133033e+00,  1.95406954e+00,\n",
       "          1.98904794e+00,  2.02664403e+00,  2.06734403e+00,  2.11178767e+00,\n",
       "          2.16084152e+00,  2.21572267e+00,  2.27822091e+00,  2.35113311e+00,\n",
       "          2.43921385e+00,  2.55162541e+00,  2.71015927e+00,  2.99209858e+00]),\n",
       "  array([-18., -14., -13., -13., -12., -12., -12., -12., -12., -12., -11.,\n",
       "         -11., -11., -11., -11., -11., -11., -11., -11., -10., -10., -10.,\n",
       "         -10., -10., -10., -10., -10., -10., -10., -10., -10.,  -9.,  -9.,\n",
       "          -9.,  -9.,  -9.,  -9.,  -9.,  -9.,  -9.,  -9.,  -9.,  -9.,  -9.,\n",
       "          -9.,  -9.,  -9.,  -9.,  -9.,  -9.,  -9.,  -9.,  -8.,  -8.,  -8.,\n",
       "          -8.,  -8.,  -8.,  -8.,  -8.,  -8.,  -8.,  -8.,  -8.,  -8.,  -8.,\n",
       "          -8.,  -8.,  -8.,  -8.,  -8.,  -8.,  -8.,  -8.,  -8.,  -8.,  -8.,\n",
       "          -8.,  -7.,  -7.,  -7.,  -7.,  -7.,  -7.,  -7.,  -7.,  -7.,  -7.,\n",
       "          -7.,  -7.,  -7.,  -7.,  -7.,  -7.,  -7.,  -7.,  -7.,  -7.,  -7.,\n",
       "          -7.,  -7.,  -7.,  -7.,  -7.,  -7.,  -7.,  -7.,  -7.,  -7.,  -7.,\n",
       "          -7.,  -7.,  -7.,  -7.,  -7.,  -7.,  -7.,  -7.,  -7.,  -7.,  -7.,\n",
       "          -7.,  -7.,  -7.,  -7.,  -7.,  -7.,  -7.,  -7.,  -7.,  -7.,  -7.,\n",
       "          -7.,  -7.,  -7.,  -7.,  -6.,  -6.,  -6.,  -6.,  -6.,  -6.,  -6.,\n",
       "          -6.,  -6.,  -6.,  -6.,  -6.,  -6.,  -6.,  -6.,  -6.,  -6.,  -6.,\n",
       "          -6.,  -6.,  -6.,  -6.,  -6.,  -6.,  -6.,  -6.,  -6.,  -6.,  -6.,\n",
       "          -6.,  -6.,  -6.,  -6.,  -6.,  -6.,  -6.,  -6.,  -6.,  -6.,  -6.,\n",
       "          -6.,  -6.,  -6.,  -6.,  -6.,  -6.,  -6.,  -6.,  -6.,  -5.,  -5.,\n",
       "          -5.,  -5.,  -5.,  -5.,  -5.,  -5.,  -5.,  -5.,  -5.,  -5.,  -5.,\n",
       "          -5.,  -5.,  -5.,  -5.,  -5.,  -5.,  -5.,  -5.,  -5.,  -5.,  -5.,\n",
       "          -5.,  -5.,  -5.,  -5.,  -5.,  -5.,  -5.,  -5.,  -5.,  -5.,  -5.,\n",
       "          -5.,  -4.,  -4.,  -4.,  -4.,  -4.,  -4.,  -4.,  -4.,  -4.,  -4.,\n",
       "          -4.,  -4.,  -4.,  -4.,  -4.,  -4.,  -4.,  -4.,  -4.,  -4.,  -4.,\n",
       "          -4.,  -4.,  -4.,  -4.,  -4.,  -4.,  -4.,  -4.,  -4.,  -4.,  -4.,\n",
       "          -4.,  -4.,  -4.,  -4.,  -4.,  -4.,  -4.,  -4.,  -4.,  -4.,  -4.,\n",
       "          -4.,  -4.,  -4.,  -4.,  -4.,  -4.,  -4.,  -4.,  -4.,  -4.,  -4.,\n",
       "          -4.,  -4.,  -4.,  -4.,  -3.,  -3.,  -3.,  -3.,  -3.,  -3.,  -3.,\n",
       "          -3.,  -3.,  -3.,  -3.,  -3.,  -3.,  -3.,  -3.,  -3.,  -3.,  -3.,\n",
       "          -3.,  -3.,  -3.,  -3.,  -3.,  -3.,  -3.,  -3.,  -3.,  -3.,  -3.,\n",
       "          -3.,  -3.,  -3.,  -3.,  -3.,  -3.,  -2.,  -2.,  -2.,  -2.,  -2.,\n",
       "          -2.,  -2.,  -2.,  -2.,  -2.,  -2.,  -2.,  -2.,  -2.,  -2.,  -2.,\n",
       "          -2.,  -2.,  -2.,  -2.,  -2.,  -2.,  -2.,  -2.,  -2.,  -2.,  -2.,\n",
       "          -2.,  -1.,  -1.,  -1.,  -1.,  -1.,  -1.,  -1.,  -1.,  -1.,  -1.,\n",
       "          -1.,  -1.,  -1.,  -1.,  -1.,  -1.,  -1.,  -1.,  -1.,   0.,   0.,\n",
       "           0.,   0.,   0.,   0.,   0.,   0.,   0.,   0.,   0.,   0.,   0.,\n",
       "           0.,   0.,   0.,   0.,   0.,   1.,   1.,   1.,   1.,   1.,   1.,\n",
       "           1.,   1.,   1.,   1.,   1.,   1.,   1.,   1.,   1.,   1.,   1.,\n",
       "           2.,   2.,   2.,   2.,   2.,   2.,   2.,   2.,   2.,   2.,   2.,\n",
       "           2.,   3.,   3.,   3.,   3.,   3.,   3.,   3.,   3.,   3.,   3.,\n",
       "           4.,   4.,   5.,   5.,   5.,   6.,   6.,   6.,   8.,   8.,   8.,\n",
       "           8.,   8.,   9.,   9.,   9.,   9.,  10.,  10.,  12.,  12.,  12.,\n",
       "          12.,  12.,  13.,  13.,  13.,  14.,  14.,  14.,  15.,  15.,  15.,\n",
       "          16.,  16.,  16.,  17.,  17.,  17.,  19.,  19.,  21.,  21.,  22.,\n",
       "          25.,  29.,  30.,  30.,  31.,  32.,  33.,  33.,  35.,  35.,  36.,\n",
       "          36.,  38.,  39.,  40.,  42.,  43.,  45.,  46.,  47.,  47.,  50.,\n",
       "          51.,  57.,  60.,  62.,  64.,  70.,  75.,  83.,  90., 110., 132.,\n",
       "         159., 171., 191., 227., 241.])),\n",
       " (16.34478878478697, 2.444000000000001, 0.6393673763341697))"
      ]
     },
     "execution_count": 268,
     "metadata": {},
     "output_type": "execute_result"
    },
    {
     "data": {
      "image/png": "[encoded data removed]",
      "text/plain": [
       "<Figure size 432x288 with 1 Axes>"
      ]
     },
     "metadata": {},
     "output_type": "display_data"
    }
   ],
   "source": [
    "sp.stats.probplot(US, plot=plt)"
   ]
  },
  {
   "cell_type": "code",
   "execution_count": 269,
   "metadata": {},
   "outputs": [
    {
     "data": {
      "text/plain": [
       "LeveneResult(statistic=3.4911620305993076, pvalue=0.007517607402927598)"
      ]
     },
     "execution_count": 269,
     "metadata": {},
     "output_type": "execute_result"
    }
   ],
   "source": [
    "sp.stats.levene(US, AS, DL, UA, AA)"
   ]
  },
  {
   "cell_type": "code",
   "execution_count": null,
   "metadata": {},
   "outputs": [],
   "source": []
  }
 ],
 "metadata": {
  "kernelspec": {
   "display_name": "Python 3",
   "language": "python",
   "name": "python3"
  },
  "language_info": {
   "codemirror_mode": {
    "name": "ipython",
    "version": 3
   },
   "file_extension": ".py",
   "mimetype": "text/x-python",
   "name": "python",
   "nbconvert_exporter": "python",
   "pygments_lexer": "ipython3",
   "version": "3.6.5"
  }
 },
 "nbformat": 4,
 "nbformat_minor": 2
}
